{
 "cells": [
  {
   "cell_type": "code",
   "execution_count": 1,
   "id": "9c290bc5",
   "metadata": {},
   "outputs": [],
   "source": [
    "import pandas as pd\n",
    "import numpy as np"
   ]
  },
  {
   "cell_type": "code",
   "execution_count": 2,
   "id": "73a3c782",
   "metadata": {},
   "outputs": [
    {
     "data": {
      "text/plain": [
       "0    1.0\n",
       "1    2.0\n",
       "2    3.0\n",
       "3    4.0\n",
       "4    5.0\n",
       "5    6.0\n",
       "6    NaN\n",
       "7    7.0\n",
       "8    8.0\n",
       "9    9.0\n",
       "dtype: float64"
      ]
     },
     "execution_count": 2,
     "metadata": {},
     "output_type": "execute_result"
    }
   ],
   "source": [
    "s = pd.Series([1,2,3,4,5,6,np.nan,7,8,9])\n",
    "s"
   ]
  },
  {
   "cell_type": "code",
   "execution_count": 4,
   "id": "0e7baaa0",
   "metadata": {},
   "outputs": [
    {
     "data": {
      "text/plain": [
       "DatetimeIndex(['2020-03-01', '2020-03-02', '2020-03-03', '2020-03-04',\n",
       "               '2020-03-05', '2020-03-06', '2020-03-07', '2020-03-08',\n",
       "               '2020-03-09', '2020-03-10'],\n",
       "              dtype='datetime64[ns]', freq='D')"
      ]
     },
     "execution_count": 4,
     "metadata": {},
     "output_type": "execute_result"
    }
   ],
   "source": [
    "d = pd.date_range(\"20200301\",periods=10)\n",
    "d"
   ]
  },
  {
   "cell_type": "code",
   "execution_count": 5,
   "id": "aa969ca6",
   "metadata": {},
   "outputs": [
    {
     "data": {
      "text/html": [
       "<div>\n",
       "<style scoped>\n",
       "    .dataframe tbody tr th:only-of-type {\n",
       "        vertical-align: middle;\n",
       "    }\n",
       "\n",
       "    .dataframe tbody tr th {\n",
       "        vertical-align: top;\n",
       "    }\n",
       "\n",
       "    .dataframe thead th {\n",
       "        text-align: right;\n",
       "    }\n",
       "</style>\n",
       "<table border=\"1\" class=\"dataframe\">\n",
       "  <thead>\n",
       "    <tr style=\"text-align: right;\">\n",
       "      <th></th>\n",
       "      <th>A</th>\n",
       "      <th>B</th>\n",
       "      <th>C</th>\n",
       "    </tr>\n",
       "  </thead>\n",
       "  <tbody>\n",
       "    <tr>\n",
       "      <th>2020-03-01</th>\n",
       "      <td>-1.330524</td>\n",
       "      <td>0.164591</td>\n",
       "      <td>-1.455314</td>\n",
       "    </tr>\n",
       "    <tr>\n",
       "      <th>2020-03-02</th>\n",
       "      <td>-0.701119</td>\n",
       "      <td>2.306586</td>\n",
       "      <td>-0.582896</td>\n",
       "    </tr>\n",
       "    <tr>\n",
       "      <th>2020-03-03</th>\n",
       "      <td>-1.035406</td>\n",
       "      <td>0.592216</td>\n",
       "      <td>-1.643747</td>\n",
       "    </tr>\n",
       "    <tr>\n",
       "      <th>2020-03-04</th>\n",
       "      <td>-1.075392</td>\n",
       "      <td>0.146805</td>\n",
       "      <td>-0.370437</td>\n",
       "    </tr>\n",
       "    <tr>\n",
       "      <th>2020-03-05</th>\n",
       "      <td>-0.174194</td>\n",
       "      <td>-0.133029</td>\n",
       "      <td>0.814202</td>\n",
       "    </tr>\n",
       "    <tr>\n",
       "      <th>2020-03-06</th>\n",
       "      <td>0.779613</td>\n",
       "      <td>-0.244397</td>\n",
       "      <td>0.848020</td>\n",
       "    </tr>\n",
       "    <tr>\n",
       "      <th>2020-03-07</th>\n",
       "      <td>1.083562</td>\n",
       "      <td>-0.083325</td>\n",
       "      <td>-0.357566</td>\n",
       "    </tr>\n",
       "    <tr>\n",
       "      <th>2020-03-08</th>\n",
       "      <td>0.082579</td>\n",
       "      <td>0.971309</td>\n",
       "      <td>-1.667247</td>\n",
       "    </tr>\n",
       "    <tr>\n",
       "      <th>2020-03-09</th>\n",
       "      <td>-0.796425</td>\n",
       "      <td>-0.900194</td>\n",
       "      <td>-1.380565</td>\n",
       "    </tr>\n",
       "    <tr>\n",
       "      <th>2020-03-10</th>\n",
       "      <td>-1.741924</td>\n",
       "      <td>-0.709927</td>\n",
       "      <td>-0.837603</td>\n",
       "    </tr>\n",
       "  </tbody>\n",
       "</table>\n",
       "</div>"
      ],
      "text/plain": [
       "                   A         B         C\n",
       "2020-03-01 -1.330524  0.164591 -1.455314\n",
       "2020-03-02 -0.701119  2.306586 -0.582896\n",
       "2020-03-03 -1.035406  0.592216 -1.643747\n",
       "2020-03-04 -1.075392  0.146805 -0.370437\n",
       "2020-03-05 -0.174194 -0.133029  0.814202\n",
       "2020-03-06  0.779613 -0.244397  0.848020\n",
       "2020-03-07  1.083562 -0.083325 -0.357566\n",
       "2020-03-08  0.082579  0.971309 -1.667247\n",
       "2020-03-09 -0.796425 -0.900194 -1.380565\n",
       "2020-03-10 -1.741924 -0.709927 -0.837603"
      ]
     },
     "execution_count": 5,
     "metadata": {},
     "output_type": "execute_result"
    }
   ],
   "source": [
    "df = pd.DataFrame(np.random.randn(10,3) , index=d, columns=[\"A\",\"B\",\"C\"])\n",
    "df"
   ]
  },
  {
   "cell_type": "code",
   "execution_count": 11,
   "id": "0e30e3f6",
   "metadata": {},
   "outputs": [
    {
     "data": {
      "text/html": [
       "<div>\n",
       "<style scoped>\n",
       "    .dataframe tbody tr th:only-of-type {\n",
       "        vertical-align: middle;\n",
       "    }\n",
       "\n",
       "    .dataframe tbody tr th {\n",
       "        vertical-align: top;\n",
       "    }\n",
       "\n",
       "    .dataframe thead th {\n",
       "        text-align: right;\n",
       "    }\n",
       "</style>\n",
       "<table border=\"1\" class=\"dataframe\">\n",
       "  <thead>\n",
       "    <tr style=\"text-align: right;\">\n",
       "      <th></th>\n",
       "      <th>A</th>\n",
       "      <th>B</th>\n",
       "      <th>C</th>\n",
       "    </tr>\n",
       "  </thead>\n",
       "  <tbody>\n",
       "    <tr>\n",
       "      <th>2020-03-01</th>\n",
       "      <td>0.397449</td>\n",
       "      <td>0.108908</td>\n",
       "      <td>0.495293</td>\n",
       "    </tr>\n",
       "    <tr>\n",
       "      <th>2020-03-02</th>\n",
       "      <td>-1.947785</td>\n",
       "      <td>0.336990</td>\n",
       "      <td>0.214707</td>\n",
       "    </tr>\n",
       "    <tr>\n",
       "      <th>2020-03-03</th>\n",
       "      <td>0.444085</td>\n",
       "      <td>0.666048</td>\n",
       "      <td>1.267647</td>\n",
       "    </tr>\n",
       "    <tr>\n",
       "      <th>2020-03-04</th>\n",
       "      <td>-0.346165</td>\n",
       "      <td>0.612182</td>\n",
       "      <td>0.611811</td>\n",
       "    </tr>\n",
       "    <tr>\n",
       "      <th>2020-03-05</th>\n",
       "      <td>1.334503</td>\n",
       "      <td>1.055141</td>\n",
       "      <td>-0.537172</td>\n",
       "    </tr>\n",
       "  </tbody>\n",
       "</table>\n",
       "</div>"
      ],
      "text/plain": [
       "                   A         B         C\n",
       "2020-03-01  0.397449  0.108908  0.495293\n",
       "2020-03-02 -1.947785  0.336990  0.214707\n",
       "2020-03-03  0.444085  0.666048  1.267647\n",
       "2020-03-04 -0.346165  0.612182  0.611811\n",
       "2020-03-05  1.334503  1.055141 -0.537172"
      ]
     },
     "execution_count": 11,
     "metadata": {},
     "output_type": "execute_result"
    }
   ],
   "source": [
    "df.head()"
   ]
  },
  {
   "cell_type": "code",
   "execution_count": 12,
   "id": "8d26fcc0",
   "metadata": {},
   "outputs": [
    {
     "data": {
      "text/html": [
       "<div>\n",
       "<style scoped>\n",
       "    .dataframe tbody tr th:only-of-type {\n",
       "        vertical-align: middle;\n",
       "    }\n",
       "\n",
       "    .dataframe tbody tr th {\n",
       "        vertical-align: top;\n",
       "    }\n",
       "\n",
       "    .dataframe thead th {\n",
       "        text-align: right;\n",
       "    }\n",
       "</style>\n",
       "<table border=\"1\" class=\"dataframe\">\n",
       "  <thead>\n",
       "    <tr style=\"text-align: right;\">\n",
       "      <th></th>\n",
       "      <th>A</th>\n",
       "      <th>B</th>\n",
       "      <th>C</th>\n",
       "    </tr>\n",
       "  </thead>\n",
       "  <tbody>\n",
       "    <tr>\n",
       "      <th>2020-03-06</th>\n",
       "      <td>0.343060</td>\n",
       "      <td>0.801874</td>\n",
       "      <td>-1.545749</td>\n",
       "    </tr>\n",
       "    <tr>\n",
       "      <th>2020-03-07</th>\n",
       "      <td>1.229096</td>\n",
       "      <td>-0.119373</td>\n",
       "      <td>-1.028300</td>\n",
       "    </tr>\n",
       "    <tr>\n",
       "      <th>2020-03-08</th>\n",
       "      <td>1.420306</td>\n",
       "      <td>0.065094</td>\n",
       "      <td>-0.502519</td>\n",
       "    </tr>\n",
       "    <tr>\n",
       "      <th>2020-03-09</th>\n",
       "      <td>-1.685688</td>\n",
       "      <td>0.730832</td>\n",
       "      <td>-0.598593</td>\n",
       "    </tr>\n",
       "    <tr>\n",
       "      <th>2020-03-10</th>\n",
       "      <td>0.083743</td>\n",
       "      <td>-0.155993</td>\n",
       "      <td>-0.911363</td>\n",
       "    </tr>\n",
       "  </tbody>\n",
       "</table>\n",
       "</div>"
      ],
      "text/plain": [
       "                   A         B         C\n",
       "2020-03-06  0.343060  0.801874 -1.545749\n",
       "2020-03-07  1.229096 -0.119373 -1.028300\n",
       "2020-03-08  1.420306  0.065094 -0.502519\n",
       "2020-03-09 -1.685688  0.730832 -0.598593\n",
       "2020-03-10  0.083743 -0.155993 -0.911363"
      ]
     },
     "execution_count": 12,
     "metadata": {},
     "output_type": "execute_result"
    }
   ],
   "source": [
    "df.tail()"
   ]
  },
  {
   "cell_type": "code",
   "execution_count": 13,
   "id": "48ff2654",
   "metadata": {},
   "outputs": [
    {
     "data": {
      "text/plain": [
       "DatetimeIndex(['2020-03-01', '2020-03-02', '2020-03-03', '2020-03-04',\n",
       "               '2020-03-05', '2020-03-06', '2020-03-07', '2020-03-08',\n",
       "               '2020-03-09', '2020-03-10'],\n",
       "              dtype='datetime64[ns]', freq='D')"
      ]
     },
     "execution_count": 13,
     "metadata": {},
     "output_type": "execute_result"
    }
   ],
   "source": [
    "df.index"
   ]
  },
  {
   "cell_type": "code",
   "execution_count": 14,
   "id": "252bccb4",
   "metadata": {},
   "outputs": [
    {
     "data": {
      "text/plain": [
       "Index(['A', 'B', 'C'], dtype='object')"
      ]
     },
     "execution_count": 14,
     "metadata": {},
     "output_type": "execute_result"
    }
   ],
   "source": [
    "df.columns"
   ]
  },
  {
   "cell_type": "code",
   "execution_count": 16,
   "id": "69a06eeb",
   "metadata": {},
   "outputs": [
    {
     "data": {
      "text/plain": [
       "array([[ 0.39744852,  0.10890802,  0.49529287],\n",
       "       [-1.94778513,  0.33699049,  0.21470749],\n",
       "       [ 0.44408501,  0.66604763,  1.26764736],\n",
       "       [-0.34616541,  0.61218197,  0.61181051],\n",
       "       [ 1.33450258,  1.05514118, -0.5371716 ],\n",
       "       [ 0.34306026,  0.80187446, -1.54574945],\n",
       "       [ 1.22909626, -0.11937279, -1.02829995],\n",
       "       [ 1.42030571,  0.06509368, -0.50251882],\n",
       "       [-1.68568796,  0.7308324 , -0.59859331],\n",
       "       [ 0.08374312, -0.15599343, -0.91136279]])"
      ]
     },
     "execution_count": 16,
     "metadata": {},
     "output_type": "execute_result"
    }
   ],
   "source": [
    "df.to_numpy()"
   ]
  },
  {
   "cell_type": "code",
   "execution_count": 17,
   "id": "de4cea85",
   "metadata": {},
   "outputs": [
    {
     "data": {
      "text/html": [
       "<div>\n",
       "<style scoped>\n",
       "    .dataframe tbody tr th:only-of-type {\n",
       "        vertical-align: middle;\n",
       "    }\n",
       "\n",
       "    .dataframe tbody tr th {\n",
       "        vertical-align: top;\n",
       "    }\n",
       "\n",
       "    .dataframe thead th {\n",
       "        text-align: right;\n",
       "    }\n",
       "</style>\n",
       "<table border=\"1\" class=\"dataframe\">\n",
       "  <thead>\n",
       "    <tr style=\"text-align: right;\">\n",
       "      <th></th>\n",
       "      <th>A</th>\n",
       "      <th>B</th>\n",
       "      <th>C</th>\n",
       "    </tr>\n",
       "  </thead>\n",
       "  <tbody>\n",
       "    <tr>\n",
       "      <th>count</th>\n",
       "      <td>10.000000</td>\n",
       "      <td>10.000000</td>\n",
       "      <td>10.000000</td>\n",
       "    </tr>\n",
       "    <tr>\n",
       "      <th>mean</th>\n",
       "      <td>0.127260</td>\n",
       "      <td>0.410170</td>\n",
       "      <td>-0.253424</td>\n",
       "    </tr>\n",
       "    <tr>\n",
       "      <th>std</th>\n",
       "      <td>1.172936</td>\n",
       "      <td>0.420935</td>\n",
       "      <td>0.869683</td>\n",
       "    </tr>\n",
       "    <tr>\n",
       "      <th>min</th>\n",
       "      <td>-1.947785</td>\n",
       "      <td>-0.155993</td>\n",
       "      <td>-1.545749</td>\n",
       "    </tr>\n",
       "    <tr>\n",
       "      <th>25%</th>\n",
       "      <td>-0.238688</td>\n",
       "      <td>0.076047</td>\n",
       "      <td>-0.833170</td>\n",
       "    </tr>\n",
       "    <tr>\n",
       "      <th>50%</th>\n",
       "      <td>0.370254</td>\n",
       "      <td>0.474586</td>\n",
       "      <td>-0.519845</td>\n",
       "    </tr>\n",
       "    <tr>\n",
       "      <th>75%</th>\n",
       "      <td>1.032843</td>\n",
       "      <td>0.714636</td>\n",
       "      <td>0.425147</td>\n",
       "    </tr>\n",
       "    <tr>\n",
       "      <th>max</th>\n",
       "      <td>1.420306</td>\n",
       "      <td>1.055141</td>\n",
       "      <td>1.267647</td>\n",
       "    </tr>\n",
       "  </tbody>\n",
       "</table>\n",
       "</div>"
      ],
      "text/plain": [
       "               A          B          C\n",
       "count  10.000000  10.000000  10.000000\n",
       "mean    0.127260   0.410170  -0.253424\n",
       "std     1.172936   0.420935   0.869683\n",
       "min    -1.947785  -0.155993  -1.545749\n",
       "25%    -0.238688   0.076047  -0.833170\n",
       "50%     0.370254   0.474586  -0.519845\n",
       "75%     1.032843   0.714636   0.425147\n",
       "max     1.420306   1.055141   1.267647"
      ]
     },
     "execution_count": 17,
     "metadata": {},
     "output_type": "execute_result"
    }
   ],
   "source": [
    "df.describe()"
   ]
  },
  {
   "cell_type": "code",
   "execution_count": 18,
   "id": "1709c127",
   "metadata": {},
   "outputs": [
    {
     "data": {
      "text/html": [
       "<div>\n",
       "<style scoped>\n",
       "    .dataframe tbody tr th:only-of-type {\n",
       "        vertical-align: middle;\n",
       "    }\n",
       "\n",
       "    .dataframe tbody tr th {\n",
       "        vertical-align: top;\n",
       "    }\n",
       "\n",
       "    .dataframe thead th {\n",
       "        text-align: right;\n",
       "    }\n",
       "</style>\n",
       "<table border=\"1\" class=\"dataframe\">\n",
       "  <thead>\n",
       "    <tr style=\"text-align: right;\">\n",
       "      <th></th>\n",
       "      <th>C</th>\n",
       "      <th>B</th>\n",
       "      <th>A</th>\n",
       "    </tr>\n",
       "  </thead>\n",
       "  <tbody>\n",
       "    <tr>\n",
       "      <th>2020-03-01</th>\n",
       "      <td>0.495293</td>\n",
       "      <td>0.108908</td>\n",
       "      <td>0.397449</td>\n",
       "    </tr>\n",
       "    <tr>\n",
       "      <th>2020-03-02</th>\n",
       "      <td>0.214707</td>\n",
       "      <td>0.336990</td>\n",
       "      <td>-1.947785</td>\n",
       "    </tr>\n",
       "    <tr>\n",
       "      <th>2020-03-03</th>\n",
       "      <td>1.267647</td>\n",
       "      <td>0.666048</td>\n",
       "      <td>0.444085</td>\n",
       "    </tr>\n",
       "    <tr>\n",
       "      <th>2020-03-04</th>\n",
       "      <td>0.611811</td>\n",
       "      <td>0.612182</td>\n",
       "      <td>-0.346165</td>\n",
       "    </tr>\n",
       "    <tr>\n",
       "      <th>2020-03-05</th>\n",
       "      <td>-0.537172</td>\n",
       "      <td>1.055141</td>\n",
       "      <td>1.334503</td>\n",
       "    </tr>\n",
       "    <tr>\n",
       "      <th>2020-03-06</th>\n",
       "      <td>-1.545749</td>\n",
       "      <td>0.801874</td>\n",
       "      <td>0.343060</td>\n",
       "    </tr>\n",
       "    <tr>\n",
       "      <th>2020-03-07</th>\n",
       "      <td>-1.028300</td>\n",
       "      <td>-0.119373</td>\n",
       "      <td>1.229096</td>\n",
       "    </tr>\n",
       "    <tr>\n",
       "      <th>2020-03-08</th>\n",
       "      <td>-0.502519</td>\n",
       "      <td>0.065094</td>\n",
       "      <td>1.420306</td>\n",
       "    </tr>\n",
       "    <tr>\n",
       "      <th>2020-03-09</th>\n",
       "      <td>-0.598593</td>\n",
       "      <td>0.730832</td>\n",
       "      <td>-1.685688</td>\n",
       "    </tr>\n",
       "    <tr>\n",
       "      <th>2020-03-10</th>\n",
       "      <td>-0.911363</td>\n",
       "      <td>-0.155993</td>\n",
       "      <td>0.083743</td>\n",
       "    </tr>\n",
       "  </tbody>\n",
       "</table>\n",
       "</div>"
      ],
      "text/plain": [
       "                   C         B         A\n",
       "2020-03-01  0.495293  0.108908  0.397449\n",
       "2020-03-02  0.214707  0.336990 -1.947785\n",
       "2020-03-03  1.267647  0.666048  0.444085\n",
       "2020-03-04  0.611811  0.612182 -0.346165\n",
       "2020-03-05 -0.537172  1.055141  1.334503\n",
       "2020-03-06 -1.545749  0.801874  0.343060\n",
       "2020-03-07 -1.028300 -0.119373  1.229096\n",
       "2020-03-08 -0.502519  0.065094  1.420306\n",
       "2020-03-09 -0.598593  0.730832 -1.685688\n",
       "2020-03-10 -0.911363 -0.155993  0.083743"
      ]
     },
     "execution_count": 18,
     "metadata": {},
     "output_type": "execute_result"
    }
   ],
   "source": [
    "df.sort_index(axis=1, ascending=False)"
   ]
  },
  {
   "cell_type": "code",
   "execution_count": 19,
   "id": "2f5b2373",
   "metadata": {},
   "outputs": [
    {
     "data": {
      "text/html": [
       "<div>\n",
       "<style scoped>\n",
       "    .dataframe tbody tr th:only-of-type {\n",
       "        vertical-align: middle;\n",
       "    }\n",
       "\n",
       "    .dataframe tbody tr th {\n",
       "        vertical-align: top;\n",
       "    }\n",
       "\n",
       "    .dataframe thead th {\n",
       "        text-align: right;\n",
       "    }\n",
       "</style>\n",
       "<table border=\"1\" class=\"dataframe\">\n",
       "  <thead>\n",
       "    <tr style=\"text-align: right;\">\n",
       "      <th></th>\n",
       "      <th>A</th>\n",
       "      <th>B</th>\n",
       "      <th>C</th>\n",
       "    </tr>\n",
       "  </thead>\n",
       "  <tbody>\n",
       "    <tr>\n",
       "      <th>2020-03-06</th>\n",
       "      <td>0.343060</td>\n",
       "      <td>0.801874</td>\n",
       "      <td>-1.545749</td>\n",
       "    </tr>\n",
       "    <tr>\n",
       "      <th>2020-03-07</th>\n",
       "      <td>1.229096</td>\n",
       "      <td>-0.119373</td>\n",
       "      <td>-1.028300</td>\n",
       "    </tr>\n",
       "    <tr>\n",
       "      <th>2020-03-10</th>\n",
       "      <td>0.083743</td>\n",
       "      <td>-0.155993</td>\n",
       "      <td>-0.911363</td>\n",
       "    </tr>\n",
       "    <tr>\n",
       "      <th>2020-03-09</th>\n",
       "      <td>-1.685688</td>\n",
       "      <td>0.730832</td>\n",
       "      <td>-0.598593</td>\n",
       "    </tr>\n",
       "    <tr>\n",
       "      <th>2020-03-05</th>\n",
       "      <td>1.334503</td>\n",
       "      <td>1.055141</td>\n",
       "      <td>-0.537172</td>\n",
       "    </tr>\n",
       "    <tr>\n",
       "      <th>2020-03-08</th>\n",
       "      <td>1.420306</td>\n",
       "      <td>0.065094</td>\n",
       "      <td>-0.502519</td>\n",
       "    </tr>\n",
       "    <tr>\n",
       "      <th>2020-03-02</th>\n",
       "      <td>-1.947785</td>\n",
       "      <td>0.336990</td>\n",
       "      <td>0.214707</td>\n",
       "    </tr>\n",
       "    <tr>\n",
       "      <th>2020-03-01</th>\n",
       "      <td>0.397449</td>\n",
       "      <td>0.108908</td>\n",
       "      <td>0.495293</td>\n",
       "    </tr>\n",
       "    <tr>\n",
       "      <th>2020-03-04</th>\n",
       "      <td>-0.346165</td>\n",
       "      <td>0.612182</td>\n",
       "      <td>0.611811</td>\n",
       "    </tr>\n",
       "    <tr>\n",
       "      <th>2020-03-03</th>\n",
       "      <td>0.444085</td>\n",
       "      <td>0.666048</td>\n",
       "      <td>1.267647</td>\n",
       "    </tr>\n",
       "  </tbody>\n",
       "</table>\n",
       "</div>"
      ],
      "text/plain": [
       "                   A         B         C\n",
       "2020-03-06  0.343060  0.801874 -1.545749\n",
       "2020-03-07  1.229096 -0.119373 -1.028300\n",
       "2020-03-10  0.083743 -0.155993 -0.911363\n",
       "2020-03-09 -1.685688  0.730832 -0.598593\n",
       "2020-03-05  1.334503  1.055141 -0.537172\n",
       "2020-03-08  1.420306  0.065094 -0.502519\n",
       "2020-03-02 -1.947785  0.336990  0.214707\n",
       "2020-03-01  0.397449  0.108908  0.495293\n",
       "2020-03-04 -0.346165  0.612182  0.611811\n",
       "2020-03-03  0.444085  0.666048  1.267647"
      ]
     },
     "execution_count": 19,
     "metadata": {},
     "output_type": "execute_result"
    }
   ],
   "source": [
    "df.sort_values(by='C')"
   ]
  },
  {
   "cell_type": "code",
   "execution_count": 20,
   "id": "3ceb515c",
   "metadata": {},
   "outputs": [
    {
     "data": {
      "text/plain": [
       "2020-03-01    0.495293\n",
       "2020-03-02    0.214707\n",
       "2020-03-03    1.267647\n",
       "2020-03-04    0.611811\n",
       "2020-03-05   -0.537172\n",
       "2020-03-06   -1.545749\n",
       "2020-03-07   -1.028300\n",
       "2020-03-08   -0.502519\n",
       "2020-03-09   -0.598593\n",
       "2020-03-10   -0.911363\n",
       "Freq: D, Name: C, dtype: float64"
      ]
     },
     "execution_count": 20,
     "metadata": {},
     "output_type": "execute_result"
    }
   ],
   "source": [
    "df['C']"
   ]
  },
  {
   "cell_type": "code",
   "execution_count": 21,
   "id": "5867537b",
   "metadata": {},
   "outputs": [
    {
     "data": {
      "text/html": [
       "<div>\n",
       "<style scoped>\n",
       "    .dataframe tbody tr th:only-of-type {\n",
       "        vertical-align: middle;\n",
       "    }\n",
       "\n",
       "    .dataframe tbody tr th {\n",
       "        vertical-align: top;\n",
       "    }\n",
       "\n",
       "    .dataframe thead th {\n",
       "        text-align: right;\n",
       "    }\n",
       "</style>\n",
       "<table border=\"1\" class=\"dataframe\">\n",
       "  <thead>\n",
       "    <tr style=\"text-align: right;\">\n",
       "      <th></th>\n",
       "      <th>A</th>\n",
       "      <th>B</th>\n",
       "      <th>C</th>\n",
       "    </tr>\n",
       "  </thead>\n",
       "  <tbody>\n",
       "    <tr>\n",
       "      <th>2020-03-01</th>\n",
       "      <td>0.397449</td>\n",
       "      <td>0.108908</td>\n",
       "      <td>0.495293</td>\n",
       "    </tr>\n",
       "    <tr>\n",
       "      <th>2020-03-02</th>\n",
       "      <td>-1.947785</td>\n",
       "      <td>0.336990</td>\n",
       "      <td>0.214707</td>\n",
       "    </tr>\n",
       "    <tr>\n",
       "      <th>2020-03-03</th>\n",
       "      <td>0.444085</td>\n",
       "      <td>0.666048</td>\n",
       "      <td>1.267647</td>\n",
       "    </tr>\n",
       "  </tbody>\n",
       "</table>\n",
       "</div>"
      ],
      "text/plain": [
       "                   A         B         C\n",
       "2020-03-01  0.397449  0.108908  0.495293\n",
       "2020-03-02 -1.947785  0.336990  0.214707\n",
       "2020-03-03  0.444085  0.666048  1.267647"
      ]
     },
     "execution_count": 21,
     "metadata": {},
     "output_type": "execute_result"
    }
   ],
   "source": [
    "df[0:3]"
   ]
  },
  {
   "cell_type": "code",
   "execution_count": 22,
   "id": "e26c667f",
   "metadata": {},
   "outputs": [
    {
     "data": {
      "text/plain": [
       "A    0.397449\n",
       "B    0.108908\n",
       "C    0.495293\n",
       "Name: 2020-03-01 00:00:00, dtype: float64"
      ]
     },
     "execution_count": 22,
     "metadata": {},
     "output_type": "execute_result"
    }
   ],
   "source": [
    "df.loc[d[0]]"
   ]
  },
  {
   "cell_type": "code",
   "execution_count": 24,
   "id": "891f3b78",
   "metadata": {},
   "outputs": [
    {
     "data": {
      "text/html": [
       "<div>\n",
       "<style scoped>\n",
       "    .dataframe tbody tr th:only-of-type {\n",
       "        vertical-align: middle;\n",
       "    }\n",
       "\n",
       "    .dataframe tbody tr th {\n",
       "        vertical-align: top;\n",
       "    }\n",
       "\n",
       "    .dataframe thead th {\n",
       "        text-align: right;\n",
       "    }\n",
       "</style>\n",
       "<table border=\"1\" class=\"dataframe\">\n",
       "  <thead>\n",
       "    <tr style=\"text-align: right;\">\n",
       "      <th></th>\n",
       "      <th>A</th>\n",
       "      <th>C</th>\n",
       "    </tr>\n",
       "  </thead>\n",
       "  <tbody>\n",
       "    <tr>\n",
       "      <th>2020-03-01</th>\n",
       "      <td>0.397449</td>\n",
       "      <td>0.495293</td>\n",
       "    </tr>\n",
       "    <tr>\n",
       "      <th>2020-03-02</th>\n",
       "      <td>-1.947785</td>\n",
       "      <td>0.214707</td>\n",
       "    </tr>\n",
       "    <tr>\n",
       "      <th>2020-03-03</th>\n",
       "      <td>0.444085</td>\n",
       "      <td>1.267647</td>\n",
       "    </tr>\n",
       "    <tr>\n",
       "      <th>2020-03-04</th>\n",
       "      <td>-0.346165</td>\n",
       "      <td>0.611811</td>\n",
       "    </tr>\n",
       "    <tr>\n",
       "      <th>2020-03-05</th>\n",
       "      <td>1.334503</td>\n",
       "      <td>-0.537172</td>\n",
       "    </tr>\n",
       "    <tr>\n",
       "      <th>2020-03-06</th>\n",
       "      <td>0.343060</td>\n",
       "      <td>-1.545749</td>\n",
       "    </tr>\n",
       "    <tr>\n",
       "      <th>2020-03-07</th>\n",
       "      <td>1.229096</td>\n",
       "      <td>-1.028300</td>\n",
       "    </tr>\n",
       "    <tr>\n",
       "      <th>2020-03-08</th>\n",
       "      <td>1.420306</td>\n",
       "      <td>-0.502519</td>\n",
       "    </tr>\n",
       "    <tr>\n",
       "      <th>2020-03-09</th>\n",
       "      <td>-1.685688</td>\n",
       "      <td>-0.598593</td>\n",
       "    </tr>\n",
       "    <tr>\n",
       "      <th>2020-03-10</th>\n",
       "      <td>0.083743</td>\n",
       "      <td>-0.911363</td>\n",
       "    </tr>\n",
       "  </tbody>\n",
       "</table>\n",
       "</div>"
      ],
      "text/plain": [
       "                   A         C\n",
       "2020-03-01  0.397449  0.495293\n",
       "2020-03-02 -1.947785  0.214707\n",
       "2020-03-03  0.444085  1.267647\n",
       "2020-03-04 -0.346165  0.611811\n",
       "2020-03-05  1.334503 -0.537172\n",
       "2020-03-06  0.343060 -1.545749\n",
       "2020-03-07  1.229096 -1.028300\n",
       "2020-03-08  1.420306 -0.502519\n",
       "2020-03-09 -1.685688 -0.598593\n",
       "2020-03-10  0.083743 -0.911363"
      ]
     },
     "execution_count": 24,
     "metadata": {},
     "output_type": "execute_result"
    }
   ],
   "source": [
    "df.loc[:, ['A','C']]"
   ]
  },
  {
   "cell_type": "code",
   "execution_count": 6,
   "id": "c78cace9",
   "metadata": {},
   "outputs": [
    {
     "ename": "TypeError",
     "evalue": "cannot do slice indexing on DatetimeIndex with these indexers [0] of type int",
     "output_type": "error",
     "traceback": [
      "\u001b[1;31m---------------------------------------------------------------------------\u001b[0m",
      "\u001b[1;31mTypeError\u001b[0m                                 Traceback (most recent call last)",
      "\u001b[1;32m~\\AppData\\Local\\Temp/ipykernel_9540/3085473507.py\u001b[0m in \u001b[0;36m<module>\u001b[1;34m\u001b[0m\n\u001b[1;32m----> 1\u001b[1;33m \u001b[0mdf\u001b[0m\u001b[1;33m.\u001b[0m\u001b[0mloc\u001b[0m\u001b[1;33m[\u001b[0m\u001b[1;36m0\u001b[0m\u001b[1;33m:\u001b[0m\u001b[1;36m3\u001b[0m\u001b[1;33m,\u001b[0m \u001b[1;33m[\u001b[0m\u001b[1;34m'A'\u001b[0m\u001b[1;33m,\u001b[0m\u001b[1;34m'C'\u001b[0m\u001b[1;33m]\u001b[0m\u001b[1;33m]\u001b[0m\u001b[1;33m\u001b[0m\u001b[1;33m\u001b[0m\u001b[0m\n\u001b[0m",
      "\u001b[1;32m~\\Anaconda\\Anaconda3\\lib\\site-packages\\pandas\\core\\indexing.py\u001b[0m in \u001b[0;36m__getitem__\u001b[1;34m(self, key)\u001b[0m\n\u001b[0;32m    923\u001b[0m                 \u001b[1;32mwith\u001b[0m \u001b[0msuppress\u001b[0m\u001b[1;33m(\u001b[0m\u001b[0mKeyError\u001b[0m\u001b[1;33m,\u001b[0m \u001b[0mIndexError\u001b[0m\u001b[1;33m)\u001b[0m\u001b[1;33m:\u001b[0m\u001b[1;33m\u001b[0m\u001b[1;33m\u001b[0m\u001b[0m\n\u001b[0;32m    924\u001b[0m                     \u001b[1;32mreturn\u001b[0m \u001b[0mself\u001b[0m\u001b[1;33m.\u001b[0m\u001b[0mobj\u001b[0m\u001b[1;33m.\u001b[0m\u001b[0m_get_value\u001b[0m\u001b[1;33m(\u001b[0m\u001b[1;33m*\u001b[0m\u001b[0mkey\u001b[0m\u001b[1;33m,\u001b[0m \u001b[0mtakeable\u001b[0m\u001b[1;33m=\u001b[0m\u001b[0mself\u001b[0m\u001b[1;33m.\u001b[0m\u001b[0m_takeable\u001b[0m\u001b[1;33m)\u001b[0m\u001b[1;33m\u001b[0m\u001b[1;33m\u001b[0m\u001b[0m\n\u001b[1;32m--> 925\u001b[1;33m             \u001b[1;32mreturn\u001b[0m \u001b[0mself\u001b[0m\u001b[1;33m.\u001b[0m\u001b[0m_getitem_tuple\u001b[0m\u001b[1;33m(\u001b[0m\u001b[0mkey\u001b[0m\u001b[1;33m)\u001b[0m\u001b[1;33m\u001b[0m\u001b[1;33m\u001b[0m\u001b[0m\n\u001b[0m\u001b[0;32m    926\u001b[0m         \u001b[1;32melse\u001b[0m\u001b[1;33m:\u001b[0m\u001b[1;33m\u001b[0m\u001b[1;33m\u001b[0m\u001b[0m\n\u001b[0;32m    927\u001b[0m             \u001b[1;31m# we by definition only have the 0th axis\u001b[0m\u001b[1;33m\u001b[0m\u001b[1;33m\u001b[0m\u001b[0m\n",
      "\u001b[1;32m~\\Anaconda\\Anaconda3\\lib\\site-packages\\pandas\\core\\indexing.py\u001b[0m in \u001b[0;36m_getitem_tuple\u001b[1;34m(self, tup)\u001b[0m\n\u001b[0;32m   1107\u001b[0m             \u001b[1;32mreturn\u001b[0m \u001b[0mself\u001b[0m\u001b[1;33m.\u001b[0m\u001b[0m_multi_take\u001b[0m\u001b[1;33m(\u001b[0m\u001b[0mtup\u001b[0m\u001b[1;33m)\u001b[0m\u001b[1;33m\u001b[0m\u001b[1;33m\u001b[0m\u001b[0m\n\u001b[0;32m   1108\u001b[0m \u001b[1;33m\u001b[0m\u001b[0m\n\u001b[1;32m-> 1109\u001b[1;33m         \u001b[1;32mreturn\u001b[0m \u001b[0mself\u001b[0m\u001b[1;33m.\u001b[0m\u001b[0m_getitem_tuple_same_dim\u001b[0m\u001b[1;33m(\u001b[0m\u001b[0mtup\u001b[0m\u001b[1;33m)\u001b[0m\u001b[1;33m\u001b[0m\u001b[1;33m\u001b[0m\u001b[0m\n\u001b[0m\u001b[0;32m   1110\u001b[0m \u001b[1;33m\u001b[0m\u001b[0m\n\u001b[0;32m   1111\u001b[0m     \u001b[1;32mdef\u001b[0m \u001b[0m_get_label\u001b[0m\u001b[1;33m(\u001b[0m\u001b[0mself\u001b[0m\u001b[1;33m,\u001b[0m \u001b[0mlabel\u001b[0m\u001b[1;33m,\u001b[0m \u001b[0maxis\u001b[0m\u001b[1;33m:\u001b[0m \u001b[0mint\u001b[0m\u001b[1;33m)\u001b[0m\u001b[1;33m:\u001b[0m\u001b[1;33m\u001b[0m\u001b[1;33m\u001b[0m\u001b[0m\n",
      "\u001b[1;32m~\\Anaconda\\Anaconda3\\lib\\site-packages\\pandas\\core\\indexing.py\u001b[0m in \u001b[0;36m_getitem_tuple_same_dim\u001b[1;34m(self, tup)\u001b[0m\n\u001b[0;32m    804\u001b[0m                 \u001b[1;32mcontinue\u001b[0m\u001b[1;33m\u001b[0m\u001b[1;33m\u001b[0m\u001b[0m\n\u001b[0;32m    805\u001b[0m \u001b[1;33m\u001b[0m\u001b[0m\n\u001b[1;32m--> 806\u001b[1;33m             \u001b[0mretval\u001b[0m \u001b[1;33m=\u001b[0m \u001b[0mgetattr\u001b[0m\u001b[1;33m(\u001b[0m\u001b[0mretval\u001b[0m\u001b[1;33m,\u001b[0m \u001b[0mself\u001b[0m\u001b[1;33m.\u001b[0m\u001b[0mname\u001b[0m\u001b[1;33m)\u001b[0m\u001b[1;33m.\u001b[0m\u001b[0m_getitem_axis\u001b[0m\u001b[1;33m(\u001b[0m\u001b[0mkey\u001b[0m\u001b[1;33m,\u001b[0m \u001b[0maxis\u001b[0m\u001b[1;33m=\u001b[0m\u001b[0mi\u001b[0m\u001b[1;33m)\u001b[0m\u001b[1;33m\u001b[0m\u001b[1;33m\u001b[0m\u001b[0m\n\u001b[0m\u001b[0;32m    807\u001b[0m             \u001b[1;31m# We should never have retval.ndim < self.ndim, as that should\u001b[0m\u001b[1;33m\u001b[0m\u001b[1;33m\u001b[0m\u001b[0m\n\u001b[0;32m    808\u001b[0m             \u001b[1;31m#  be handled by the _getitem_lowerdim call above.\u001b[0m\u001b[1;33m\u001b[0m\u001b[1;33m\u001b[0m\u001b[0m\n",
      "\u001b[1;32m~\\Anaconda\\Anaconda3\\lib\\site-packages\\pandas\\core\\indexing.py\u001b[0m in \u001b[0;36m_getitem_axis\u001b[1;34m(self, key, axis)\u001b[0m\n\u001b[0;32m   1140\u001b[0m         \u001b[1;32mif\u001b[0m \u001b[0misinstance\u001b[0m\u001b[1;33m(\u001b[0m\u001b[0mkey\u001b[0m\u001b[1;33m,\u001b[0m \u001b[0mslice\u001b[0m\u001b[1;33m)\u001b[0m\u001b[1;33m:\u001b[0m\u001b[1;33m\u001b[0m\u001b[1;33m\u001b[0m\u001b[0m\n\u001b[0;32m   1141\u001b[0m             \u001b[0mself\u001b[0m\u001b[1;33m.\u001b[0m\u001b[0m_validate_key\u001b[0m\u001b[1;33m(\u001b[0m\u001b[0mkey\u001b[0m\u001b[1;33m,\u001b[0m \u001b[0maxis\u001b[0m\u001b[1;33m)\u001b[0m\u001b[1;33m\u001b[0m\u001b[1;33m\u001b[0m\u001b[0m\n\u001b[1;32m-> 1142\u001b[1;33m             \u001b[1;32mreturn\u001b[0m \u001b[0mself\u001b[0m\u001b[1;33m.\u001b[0m\u001b[0m_get_slice_axis\u001b[0m\u001b[1;33m(\u001b[0m\u001b[0mkey\u001b[0m\u001b[1;33m,\u001b[0m \u001b[0maxis\u001b[0m\u001b[1;33m=\u001b[0m\u001b[0maxis\u001b[0m\u001b[1;33m)\u001b[0m\u001b[1;33m\u001b[0m\u001b[1;33m\u001b[0m\u001b[0m\n\u001b[0m\u001b[0;32m   1143\u001b[0m         \u001b[1;32melif\u001b[0m \u001b[0mcom\u001b[0m\u001b[1;33m.\u001b[0m\u001b[0mis_bool_indexer\u001b[0m\u001b[1;33m(\u001b[0m\u001b[0mkey\u001b[0m\u001b[1;33m)\u001b[0m\u001b[1;33m:\u001b[0m\u001b[1;33m\u001b[0m\u001b[1;33m\u001b[0m\u001b[0m\n\u001b[0;32m   1144\u001b[0m             \u001b[1;32mreturn\u001b[0m \u001b[0mself\u001b[0m\u001b[1;33m.\u001b[0m\u001b[0m_getbool_axis\u001b[0m\u001b[1;33m(\u001b[0m\u001b[0mkey\u001b[0m\u001b[1;33m,\u001b[0m \u001b[0maxis\u001b[0m\u001b[1;33m=\u001b[0m\u001b[0maxis\u001b[0m\u001b[1;33m)\u001b[0m\u001b[1;33m\u001b[0m\u001b[1;33m\u001b[0m\u001b[0m\n",
      "\u001b[1;32m~\\Anaconda\\Anaconda3\\lib\\site-packages\\pandas\\core\\indexing.py\u001b[0m in \u001b[0;36m_get_slice_axis\u001b[1;34m(self, slice_obj, axis)\u001b[0m\n\u001b[0;32m   1174\u001b[0m \u001b[1;33m\u001b[0m\u001b[0m\n\u001b[0;32m   1175\u001b[0m         \u001b[0mlabels\u001b[0m \u001b[1;33m=\u001b[0m \u001b[0mobj\u001b[0m\u001b[1;33m.\u001b[0m\u001b[0m_get_axis\u001b[0m\u001b[1;33m(\u001b[0m\u001b[0maxis\u001b[0m\u001b[1;33m)\u001b[0m\u001b[1;33m\u001b[0m\u001b[1;33m\u001b[0m\u001b[0m\n\u001b[1;32m-> 1176\u001b[1;33m         \u001b[0mindexer\u001b[0m \u001b[1;33m=\u001b[0m \u001b[0mlabels\u001b[0m\u001b[1;33m.\u001b[0m\u001b[0mslice_indexer\u001b[0m\u001b[1;33m(\u001b[0m\u001b[0mslice_obj\u001b[0m\u001b[1;33m.\u001b[0m\u001b[0mstart\u001b[0m\u001b[1;33m,\u001b[0m \u001b[0mslice_obj\u001b[0m\u001b[1;33m.\u001b[0m\u001b[0mstop\u001b[0m\u001b[1;33m,\u001b[0m \u001b[0mslice_obj\u001b[0m\u001b[1;33m.\u001b[0m\u001b[0mstep\u001b[0m\u001b[1;33m)\u001b[0m\u001b[1;33m\u001b[0m\u001b[1;33m\u001b[0m\u001b[0m\n\u001b[0m\u001b[0;32m   1177\u001b[0m \u001b[1;33m\u001b[0m\u001b[0m\n\u001b[0;32m   1178\u001b[0m         \u001b[1;32mif\u001b[0m \u001b[0misinstance\u001b[0m\u001b[1;33m(\u001b[0m\u001b[0mindexer\u001b[0m\u001b[1;33m,\u001b[0m \u001b[0mslice\u001b[0m\u001b[1;33m)\u001b[0m\u001b[1;33m:\u001b[0m\u001b[1;33m\u001b[0m\u001b[1;33m\u001b[0m\u001b[0m\n",
      "\u001b[1;32m~\\Anaconda\\Anaconda3\\lib\\site-packages\\pandas\\core\\indexes\\datetimes.py\u001b[0m in \u001b[0;36mslice_indexer\u001b[1;34m(self, start, end, step, kind)\u001b[0m\n\u001b[0;32m    809\u001b[0m             \u001b[1;32mor\u001b[0m \u001b[0mself\u001b[0m\u001b[1;33m.\u001b[0m\u001b[0mis_monotonic_increasing\u001b[0m\u001b[1;33m\u001b[0m\u001b[1;33m\u001b[0m\u001b[0m\n\u001b[0;32m    810\u001b[0m         ):\n\u001b[1;32m--> 811\u001b[1;33m             \u001b[1;32mreturn\u001b[0m \u001b[0mIndex\u001b[0m\u001b[1;33m.\u001b[0m\u001b[0mslice_indexer\u001b[0m\u001b[1;33m(\u001b[0m\u001b[0mself\u001b[0m\u001b[1;33m,\u001b[0m \u001b[0mstart\u001b[0m\u001b[1;33m,\u001b[0m \u001b[0mend\u001b[0m\u001b[1;33m,\u001b[0m \u001b[0mstep\u001b[0m\u001b[1;33m,\u001b[0m \u001b[0mkind\u001b[0m\u001b[1;33m=\u001b[0m\u001b[0mkind\u001b[0m\u001b[1;33m)\u001b[0m\u001b[1;33m\u001b[0m\u001b[1;33m\u001b[0m\u001b[0m\n\u001b[0m\u001b[0;32m    812\u001b[0m \u001b[1;33m\u001b[0m\u001b[0m\n\u001b[0;32m    813\u001b[0m         \u001b[0mmask\u001b[0m \u001b[1;33m=\u001b[0m \u001b[0mnp\u001b[0m\u001b[1;33m.\u001b[0m\u001b[0marray\u001b[0m\u001b[1;33m(\u001b[0m\u001b[1;32mTrue\u001b[0m\u001b[1;33m)\u001b[0m\u001b[1;33m\u001b[0m\u001b[1;33m\u001b[0m\u001b[0m\n",
      "\u001b[1;32m~\\Anaconda\\Anaconda3\\lib\\site-packages\\pandas\\core\\indexes\\base.py\u001b[0m in \u001b[0;36mslice_indexer\u001b[1;34m(self, start, end, step, kind)\u001b[0m\n\u001b[0;32m   5683\u001b[0m         \u001b[0mslice\u001b[0m\u001b[1;33m(\u001b[0m\u001b[1;36m1\u001b[0m\u001b[1;33m,\u001b[0m \u001b[1;36m3\u001b[0m\u001b[1;33m,\u001b[0m \u001b[1;32mNone\u001b[0m\u001b[1;33m)\u001b[0m\u001b[1;33m\u001b[0m\u001b[1;33m\u001b[0m\u001b[0m\n\u001b[0;32m   5684\u001b[0m         \"\"\"\n\u001b[1;32m-> 5685\u001b[1;33m         \u001b[0mstart_slice\u001b[0m\u001b[1;33m,\u001b[0m \u001b[0mend_slice\u001b[0m \u001b[1;33m=\u001b[0m \u001b[0mself\u001b[0m\u001b[1;33m.\u001b[0m\u001b[0mslice_locs\u001b[0m\u001b[1;33m(\u001b[0m\u001b[0mstart\u001b[0m\u001b[1;33m,\u001b[0m \u001b[0mend\u001b[0m\u001b[1;33m,\u001b[0m \u001b[0mstep\u001b[0m\u001b[1;33m=\u001b[0m\u001b[0mstep\u001b[0m\u001b[1;33m)\u001b[0m\u001b[1;33m\u001b[0m\u001b[1;33m\u001b[0m\u001b[0m\n\u001b[0m\u001b[0;32m   5686\u001b[0m \u001b[1;33m\u001b[0m\u001b[0m\n\u001b[0;32m   5687\u001b[0m         \u001b[1;31m# return a slice\u001b[0m\u001b[1;33m\u001b[0m\u001b[1;33m\u001b[0m\u001b[0m\n",
      "\u001b[1;32m~\\Anaconda\\Anaconda3\\lib\\site-packages\\pandas\\core\\indexes\\base.py\u001b[0m in \u001b[0;36mslice_locs\u001b[1;34m(self, start, end, step, kind)\u001b[0m\n\u001b[0;32m   5885\u001b[0m         \u001b[0mstart_slice\u001b[0m \u001b[1;33m=\u001b[0m \u001b[1;32mNone\u001b[0m\u001b[1;33m\u001b[0m\u001b[1;33m\u001b[0m\u001b[0m\n\u001b[0;32m   5886\u001b[0m         \u001b[1;32mif\u001b[0m \u001b[0mstart\u001b[0m \u001b[1;32mis\u001b[0m \u001b[1;32mnot\u001b[0m \u001b[1;32mNone\u001b[0m\u001b[1;33m:\u001b[0m\u001b[1;33m\u001b[0m\u001b[1;33m\u001b[0m\u001b[0m\n\u001b[1;32m-> 5887\u001b[1;33m             \u001b[0mstart_slice\u001b[0m \u001b[1;33m=\u001b[0m \u001b[0mself\u001b[0m\u001b[1;33m.\u001b[0m\u001b[0mget_slice_bound\u001b[0m\u001b[1;33m(\u001b[0m\u001b[0mstart\u001b[0m\u001b[1;33m,\u001b[0m \u001b[1;34m\"left\"\u001b[0m\u001b[1;33m)\u001b[0m\u001b[1;33m\u001b[0m\u001b[1;33m\u001b[0m\u001b[0m\n\u001b[0m\u001b[0;32m   5888\u001b[0m         \u001b[1;32mif\u001b[0m \u001b[0mstart_slice\u001b[0m \u001b[1;32mis\u001b[0m \u001b[1;32mNone\u001b[0m\u001b[1;33m:\u001b[0m\u001b[1;33m\u001b[0m\u001b[1;33m\u001b[0m\u001b[0m\n\u001b[0;32m   5889\u001b[0m             \u001b[0mstart_slice\u001b[0m \u001b[1;33m=\u001b[0m \u001b[1;36m0\u001b[0m\u001b[1;33m\u001b[0m\u001b[1;33m\u001b[0m\u001b[0m\n",
      "\u001b[1;32m~\\Anaconda\\Anaconda3\\lib\\site-packages\\pandas\\core\\indexes\\base.py\u001b[0m in \u001b[0;36mget_slice_bound\u001b[1;34m(self, label, side, kind)\u001b[0m\n\u001b[0;32m   5795\u001b[0m         \u001b[1;31m# For datetime indices label may be a string that has to be converted\u001b[0m\u001b[1;33m\u001b[0m\u001b[1;33m\u001b[0m\u001b[0m\n\u001b[0;32m   5796\u001b[0m         \u001b[1;31m# to datetime boundary according to its resolution.\u001b[0m\u001b[1;33m\u001b[0m\u001b[1;33m\u001b[0m\u001b[0m\n\u001b[1;32m-> 5797\u001b[1;33m         \u001b[0mlabel\u001b[0m \u001b[1;33m=\u001b[0m \u001b[0mself\u001b[0m\u001b[1;33m.\u001b[0m\u001b[0m_maybe_cast_slice_bound\u001b[0m\u001b[1;33m(\u001b[0m\u001b[0mlabel\u001b[0m\u001b[1;33m,\u001b[0m \u001b[0mside\u001b[0m\u001b[1;33m)\u001b[0m\u001b[1;33m\u001b[0m\u001b[1;33m\u001b[0m\u001b[0m\n\u001b[0m\u001b[0;32m   5798\u001b[0m \u001b[1;33m\u001b[0m\u001b[0m\n\u001b[0;32m   5799\u001b[0m         \u001b[1;31m# we need to look up the label\u001b[0m\u001b[1;33m\u001b[0m\u001b[1;33m\u001b[0m\u001b[0m\n",
      "\u001b[1;32m~\\Anaconda\\Anaconda3\\lib\\site-packages\\pandas\\core\\indexes\\datetimes.py\u001b[0m in \u001b[0;36m_maybe_cast_slice_bound\u001b[1;34m(self, label, side, kind)\u001b[0m\n\u001b[0;32m    756\u001b[0m             \u001b[0mself\u001b[0m\u001b[1;33m.\u001b[0m\u001b[0m_deprecate_mismatched_indexing\u001b[0m\u001b[1;33m(\u001b[0m\u001b[0mlabel\u001b[0m\u001b[1;33m)\u001b[0m\u001b[1;33m\u001b[0m\u001b[1;33m\u001b[0m\u001b[0m\n\u001b[0;32m    757\u001b[0m         \u001b[1;32melse\u001b[0m\u001b[1;33m:\u001b[0m\u001b[1;33m\u001b[0m\u001b[1;33m\u001b[0m\u001b[0m\n\u001b[1;32m--> 758\u001b[1;33m             \u001b[1;32mraise\u001b[0m \u001b[0mself\u001b[0m\u001b[1;33m.\u001b[0m\u001b[0m_invalid_indexer\u001b[0m\u001b[1;33m(\u001b[0m\u001b[1;34m\"slice\"\u001b[0m\u001b[1;33m,\u001b[0m \u001b[0mlabel\u001b[0m\u001b[1;33m)\u001b[0m\u001b[1;33m\u001b[0m\u001b[1;33m\u001b[0m\u001b[0m\n\u001b[0m\u001b[0;32m    759\u001b[0m \u001b[1;33m\u001b[0m\u001b[0m\n\u001b[0;32m    760\u001b[0m         \u001b[1;32mreturn\u001b[0m \u001b[0mself\u001b[0m\u001b[1;33m.\u001b[0m\u001b[0m_maybe_cast_for_get_loc\u001b[0m\u001b[1;33m(\u001b[0m\u001b[0mlabel\u001b[0m\u001b[1;33m)\u001b[0m\u001b[1;33m\u001b[0m\u001b[1;33m\u001b[0m\u001b[0m\n",
      "\u001b[1;31mTypeError\u001b[0m: cannot do slice indexing on DatetimeIndex with these indexers [0] of type int"
     ]
    }
   ],
   "source": [
    "df.loc[0:3, ['A','C']]   #throws error"
   ]
  },
  {
   "cell_type": "code",
   "execution_count": 8,
   "id": "2f70ab8e",
   "metadata": {},
   "outputs": [
    {
     "data": {
      "text/html": [
       "<div>\n",
       "<style scoped>\n",
       "    .dataframe tbody tr th:only-of-type {\n",
       "        vertical-align: middle;\n",
       "    }\n",
       "\n",
       "    .dataframe tbody tr th {\n",
       "        vertical-align: top;\n",
       "    }\n",
       "\n",
       "    .dataframe thead th {\n",
       "        text-align: right;\n",
       "    }\n",
       "</style>\n",
       "<table border=\"1\" class=\"dataframe\">\n",
       "  <thead>\n",
       "    <tr style=\"text-align: right;\">\n",
       "      <th></th>\n",
       "      <th>A</th>\n",
       "      <th>B</th>\n",
       "    </tr>\n",
       "  </thead>\n",
       "  <tbody>\n",
       "    <tr>\n",
       "      <th>2020-03-06</th>\n",
       "      <td>0.779613</td>\n",
       "      <td>-0.244397</td>\n",
       "    </tr>\n",
       "    <tr>\n",
       "      <th>2020-03-07</th>\n",
       "      <td>1.083562</td>\n",
       "      <td>-0.083325</td>\n",
       "    </tr>\n",
       "    <tr>\n",
       "      <th>2020-03-08</th>\n",
       "      <td>0.082579</td>\n",
       "      <td>0.971309</td>\n",
       "    </tr>\n",
       "    <tr>\n",
       "      <th>2020-03-09</th>\n",
       "      <td>-0.796425</td>\n",
       "      <td>-0.900194</td>\n",
       "    </tr>\n",
       "    <tr>\n",
       "      <th>2020-03-10</th>\n",
       "      <td>-1.741924</td>\n",
       "      <td>-0.709927</td>\n",
       "    </tr>\n",
       "  </tbody>\n",
       "</table>\n",
       "</div>"
      ],
      "text/plain": [
       "                   A         B\n",
       "2020-03-06  0.779613 -0.244397\n",
       "2020-03-07  1.083562 -0.083325\n",
       "2020-03-08  0.082579  0.971309\n",
       "2020-03-09 -0.796425 -0.900194\n",
       "2020-03-10 -1.741924 -0.709927"
      ]
     },
     "execution_count": 8,
     "metadata": {},
     "output_type": "execute_result"
    }
   ],
   "source": [
    "df.loc['20200306':'20200310',['A','B']]"
   ]
  },
  {
   "cell_type": "code",
   "execution_count": 11,
   "id": "86dfabf9",
   "metadata": {},
   "outputs": [
    {
     "data": {
      "text/plain": [
       "A   -1.741924\n",
       "B   -0.709927\n",
       "Name: 2020-03-10 00:00:00, dtype: float64"
      ]
     },
     "execution_count": 11,
     "metadata": {},
     "output_type": "execute_result"
    }
   ],
   "source": [
    "df.loc['20200310',['A','B']]"
   ]
  },
  {
   "cell_type": "code",
   "execution_count": 12,
   "id": "232c1027",
   "metadata": {},
   "outputs": [
    {
     "data": {
      "text/plain": [
       "A   -1.741924\n",
       "B   -0.709927\n",
       "Name: 2020-03-10 00:00:00, dtype: float64"
      ]
     },
     "execution_count": 12,
     "metadata": {},
     "output_type": "execute_result"
    }
   ],
   "source": [
    "df.loc[d[9],['A','B']]"
   ]
  },
  {
   "cell_type": "code",
   "execution_count": 13,
   "id": "4462e7d7",
   "metadata": {},
   "outputs": [
    {
     "data": {
      "text/plain": [
       "0.16459138940339896"
      ]
     },
     "execution_count": 13,
     "metadata": {},
     "output_type": "execute_result"
    }
   ],
   "source": [
    "df.at[d[0],'B']  #exact value at 0 row and col B"
   ]
  },
  {
   "cell_type": "code",
   "execution_count": 14,
   "id": "778b4854",
   "metadata": {},
   "outputs": [
    {
     "data": {
      "text/plain": [
       "A   -1.075392\n",
       "B    0.146805\n",
       "C   -0.370437\n",
       "Name: 2020-03-04 00:00:00, dtype: float64"
      ]
     },
     "execution_count": 14,
     "metadata": {},
     "output_type": "execute_result"
    }
   ],
   "source": [
    "df.iloc[3]"
   ]
  },
  {
   "cell_type": "code",
   "execution_count": 15,
   "id": "fc8a2d29",
   "metadata": {},
   "outputs": [
    {
     "data": {
      "text/html": [
       "<div>\n",
       "<style scoped>\n",
       "    .dataframe tbody tr th:only-of-type {\n",
       "        vertical-align: middle;\n",
       "    }\n",
       "\n",
       "    .dataframe tbody tr th {\n",
       "        vertical-align: top;\n",
       "    }\n",
       "\n",
       "    .dataframe thead th {\n",
       "        text-align: right;\n",
       "    }\n",
       "</style>\n",
       "<table border=\"1\" class=\"dataframe\">\n",
       "  <thead>\n",
       "    <tr style=\"text-align: right;\">\n",
       "      <th></th>\n",
       "      <th>A</th>\n",
       "      <th>B</th>\n",
       "    </tr>\n",
       "  </thead>\n",
       "  <tbody>\n",
       "    <tr>\n",
       "      <th>2020-03-04</th>\n",
       "      <td>-1.075392</td>\n",
       "      <td>0.146805</td>\n",
       "    </tr>\n",
       "    <tr>\n",
       "      <th>2020-03-05</th>\n",
       "      <td>-0.174194</td>\n",
       "      <td>-0.133029</td>\n",
       "    </tr>\n",
       "  </tbody>\n",
       "</table>\n",
       "</div>"
      ],
      "text/plain": [
       "                   A         B\n",
       "2020-03-04 -1.075392  0.146805\n",
       "2020-03-05 -0.174194 -0.133029"
      ]
     },
     "execution_count": 15,
     "metadata": {},
     "output_type": "execute_result"
    }
   ],
   "source": [
    "df.iloc[3:5,0:2]"
   ]
  },
  {
   "cell_type": "code",
   "execution_count": 16,
   "id": "39aef12e",
   "metadata": {},
   "outputs": [
    {
     "data": {
      "text/html": [
       "<div>\n",
       "<style scoped>\n",
       "    .dataframe tbody tr th:only-of-type {\n",
       "        vertical-align: middle;\n",
       "    }\n",
       "\n",
       "    .dataframe tbody tr th {\n",
       "        vertical-align: top;\n",
       "    }\n",
       "\n",
       "    .dataframe thead th {\n",
       "        text-align: right;\n",
       "    }\n",
       "</style>\n",
       "<table border=\"1\" class=\"dataframe\">\n",
       "  <thead>\n",
       "    <tr style=\"text-align: right;\">\n",
       "      <th></th>\n",
       "      <th>A</th>\n",
       "      <th>B</th>\n",
       "      <th>C</th>\n",
       "    </tr>\n",
       "  </thead>\n",
       "  <tbody>\n",
       "    <tr>\n",
       "      <th>2020-03-06</th>\n",
       "      <td>0.779613</td>\n",
       "      <td>-0.244397</td>\n",
       "      <td>0.848020</td>\n",
       "    </tr>\n",
       "    <tr>\n",
       "      <th>2020-03-07</th>\n",
       "      <td>1.083562</td>\n",
       "      <td>-0.083325</td>\n",
       "      <td>-0.357566</td>\n",
       "    </tr>\n",
       "  </tbody>\n",
       "</table>\n",
       "</div>"
      ],
      "text/plain": [
       "                   A         B         C\n",
       "2020-03-06  0.779613 -0.244397  0.848020\n",
       "2020-03-07  1.083562 -0.083325 -0.357566"
      ]
     },
     "execution_count": 16,
     "metadata": {},
     "output_type": "execute_result"
    }
   ],
   "source": [
    "df[df['A']>0.3]  #boolean indexing"
   ]
  },
  {
   "cell_type": "code",
   "execution_count": 17,
   "id": "abdc1279",
   "metadata": {},
   "outputs": [],
   "source": [
    "#reindexing\n",
    "df2= df.reindex(index=d[0:4], columns=list(df.columns)+['E'])"
   ]
  },
  {
   "cell_type": "code",
   "execution_count": 18,
   "id": "c2d12a1b",
   "metadata": {},
   "outputs": [],
   "source": [
    "df2.loc[d[0]:d[1],'E']=1  #assigning some values to col E"
   ]
  },
  {
   "cell_type": "code",
   "execution_count": 19,
   "id": "5e488165",
   "metadata": {},
   "outputs": [
    {
     "data": {
      "text/html": [
       "<div>\n",
       "<style scoped>\n",
       "    .dataframe tbody tr th:only-of-type {\n",
       "        vertical-align: middle;\n",
       "    }\n",
       "\n",
       "    .dataframe tbody tr th {\n",
       "        vertical-align: top;\n",
       "    }\n",
       "\n",
       "    .dataframe thead th {\n",
       "        text-align: right;\n",
       "    }\n",
       "</style>\n",
       "<table border=\"1\" class=\"dataframe\">\n",
       "  <thead>\n",
       "    <tr style=\"text-align: right;\">\n",
       "      <th></th>\n",
       "      <th>A</th>\n",
       "      <th>B</th>\n",
       "      <th>C</th>\n",
       "      <th>E</th>\n",
       "    </tr>\n",
       "  </thead>\n",
       "  <tbody>\n",
       "    <tr>\n",
       "      <th>2020-03-01</th>\n",
       "      <td>-1.330524</td>\n",
       "      <td>0.164591</td>\n",
       "      <td>-1.455314</td>\n",
       "      <td>1.0</td>\n",
       "    </tr>\n",
       "    <tr>\n",
       "      <th>2020-03-02</th>\n",
       "      <td>-0.701119</td>\n",
       "      <td>2.306586</td>\n",
       "      <td>-0.582896</td>\n",
       "      <td>1.0</td>\n",
       "    </tr>\n",
       "    <tr>\n",
       "      <th>2020-03-03</th>\n",
       "      <td>-1.035406</td>\n",
       "      <td>0.592216</td>\n",
       "      <td>-1.643747</td>\n",
       "      <td>NaN</td>\n",
       "    </tr>\n",
       "    <tr>\n",
       "      <th>2020-03-04</th>\n",
       "      <td>-1.075392</td>\n",
       "      <td>0.146805</td>\n",
       "      <td>-0.370437</td>\n",
       "      <td>NaN</td>\n",
       "    </tr>\n",
       "  </tbody>\n",
       "</table>\n",
       "</div>"
      ],
      "text/plain": [
       "                   A         B         C    E\n",
       "2020-03-01 -1.330524  0.164591 -1.455314  1.0\n",
       "2020-03-02 -0.701119  2.306586 -0.582896  1.0\n",
       "2020-03-03 -1.035406  0.592216 -1.643747  NaN\n",
       "2020-03-04 -1.075392  0.146805 -0.370437  NaN"
      ]
     },
     "execution_count": 19,
     "metadata": {},
     "output_type": "execute_result"
    }
   ],
   "source": [
    "df2"
   ]
  },
  {
   "cell_type": "code",
   "execution_count": 20,
   "id": "04f1a125",
   "metadata": {},
   "outputs": [
    {
     "data": {
      "text/html": [
       "<div>\n",
       "<style scoped>\n",
       "    .dataframe tbody tr th:only-of-type {\n",
       "        vertical-align: middle;\n",
       "    }\n",
       "\n",
       "    .dataframe tbody tr th {\n",
       "        vertical-align: top;\n",
       "    }\n",
       "\n",
       "    .dataframe thead th {\n",
       "        text-align: right;\n",
       "    }\n",
       "</style>\n",
       "<table border=\"1\" class=\"dataframe\">\n",
       "  <thead>\n",
       "    <tr style=\"text-align: right;\">\n",
       "      <th></th>\n",
       "      <th>A</th>\n",
       "      <th>B</th>\n",
       "      <th>C</th>\n",
       "      <th>E</th>\n",
       "    </tr>\n",
       "  </thead>\n",
       "  <tbody>\n",
       "    <tr>\n",
       "      <th>2020-03-01</th>\n",
       "      <td>False</td>\n",
       "      <td>False</td>\n",
       "      <td>False</td>\n",
       "      <td>False</td>\n",
       "    </tr>\n",
       "    <tr>\n",
       "      <th>2020-03-02</th>\n",
       "      <td>False</td>\n",
       "      <td>False</td>\n",
       "      <td>False</td>\n",
       "      <td>False</td>\n",
       "    </tr>\n",
       "    <tr>\n",
       "      <th>2020-03-03</th>\n",
       "      <td>False</td>\n",
       "      <td>False</td>\n",
       "      <td>False</td>\n",
       "      <td>True</td>\n",
       "    </tr>\n",
       "    <tr>\n",
       "      <th>2020-03-04</th>\n",
       "      <td>False</td>\n",
       "      <td>False</td>\n",
       "      <td>False</td>\n",
       "      <td>True</td>\n",
       "    </tr>\n",
       "  </tbody>\n",
       "</table>\n",
       "</div>"
      ],
      "text/plain": [
       "                A      B      C      E\n",
       "2020-03-01  False  False  False  False\n",
       "2020-03-02  False  False  False  False\n",
       "2020-03-03  False  False  False   True\n",
       "2020-03-04  False  False  False   True"
      ]
     },
     "execution_count": 20,
     "metadata": {},
     "output_type": "execute_result"
    }
   ],
   "source": [
    "df2.isnull()"
   ]
  },
  {
   "cell_type": "code",
   "execution_count": 23,
   "id": "4ebabf7c",
   "metadata": {},
   "outputs": [
    {
     "data": {
      "text/html": [
       "<div>\n",
       "<style scoped>\n",
       "    .dataframe tbody tr th:only-of-type {\n",
       "        vertical-align: middle;\n",
       "    }\n",
       "\n",
       "    .dataframe tbody tr th {\n",
       "        vertical-align: top;\n",
       "    }\n",
       "\n",
       "    .dataframe thead th {\n",
       "        text-align: right;\n",
       "    }\n",
       "</style>\n",
       "<table border=\"1\" class=\"dataframe\">\n",
       "  <thead>\n",
       "    <tr style=\"text-align: right;\">\n",
       "      <th></th>\n",
       "      <th>A</th>\n",
       "      <th>B</th>\n",
       "      <th>C</th>\n",
       "      <th>E</th>\n",
       "    </tr>\n",
       "  </thead>\n",
       "  <tbody>\n",
       "    <tr>\n",
       "      <th>2020-03-01</th>\n",
       "      <td>False</td>\n",
       "      <td>False</td>\n",
       "      <td>False</td>\n",
       "      <td>False</td>\n",
       "    </tr>\n",
       "    <tr>\n",
       "      <th>2020-03-02</th>\n",
       "      <td>False</td>\n",
       "      <td>False</td>\n",
       "      <td>False</td>\n",
       "      <td>False</td>\n",
       "    </tr>\n",
       "    <tr>\n",
       "      <th>2020-03-03</th>\n",
       "      <td>False</td>\n",
       "      <td>False</td>\n",
       "      <td>False</td>\n",
       "      <td>True</td>\n",
       "    </tr>\n",
       "    <tr>\n",
       "      <th>2020-03-04</th>\n",
       "      <td>False</td>\n",
       "      <td>False</td>\n",
       "      <td>False</td>\n",
       "      <td>True</td>\n",
       "    </tr>\n",
       "  </tbody>\n",
       "</table>\n",
       "</div>"
      ],
      "text/plain": [
       "                A      B      C      E\n",
       "2020-03-01  False  False  False  False\n",
       "2020-03-02  False  False  False  False\n",
       "2020-03-03  False  False  False   True\n",
       "2020-03-04  False  False  False   True"
      ]
     },
     "execution_count": 23,
     "metadata": {},
     "output_type": "execute_result"
    }
   ],
   "source": [
    "pd.isna(df2)"
   ]
  },
  {
   "cell_type": "code",
   "execution_count": 21,
   "id": "437371b6",
   "metadata": {},
   "outputs": [
    {
     "data": {
      "text/html": [
       "<div>\n",
       "<style scoped>\n",
       "    .dataframe tbody tr th:only-of-type {\n",
       "        vertical-align: middle;\n",
       "    }\n",
       "\n",
       "    .dataframe tbody tr th {\n",
       "        vertical-align: top;\n",
       "    }\n",
       "\n",
       "    .dataframe thead th {\n",
       "        text-align: right;\n",
       "    }\n",
       "</style>\n",
       "<table border=\"1\" class=\"dataframe\">\n",
       "  <thead>\n",
       "    <tr style=\"text-align: right;\">\n",
       "      <th></th>\n",
       "      <th>A</th>\n",
       "      <th>B</th>\n",
       "      <th>C</th>\n",
       "      <th>E</th>\n",
       "    </tr>\n",
       "  </thead>\n",
       "  <tbody>\n",
       "    <tr>\n",
       "      <th>2020-03-01</th>\n",
       "      <td>-1.330524</td>\n",
       "      <td>0.164591</td>\n",
       "      <td>-1.455314</td>\n",
       "      <td>1.0</td>\n",
       "    </tr>\n",
       "    <tr>\n",
       "      <th>2020-03-02</th>\n",
       "      <td>-0.701119</td>\n",
       "      <td>2.306586</td>\n",
       "      <td>-0.582896</td>\n",
       "      <td>1.0</td>\n",
       "    </tr>\n",
       "  </tbody>\n",
       "</table>\n",
       "</div>"
      ],
      "text/plain": [
       "                   A         B         C    E\n",
       "2020-03-01 -1.330524  0.164591 -1.455314  1.0\n",
       "2020-03-02 -0.701119  2.306586 -0.582896  1.0"
      ]
     },
     "execution_count": 21,
     "metadata": {},
     "output_type": "execute_result"
    }
   ],
   "source": [
    "df2.dropna()"
   ]
  },
  {
   "cell_type": "code",
   "execution_count": 22,
   "id": "89d5b9ed",
   "metadata": {},
   "outputs": [
    {
     "data": {
      "text/html": [
       "<div>\n",
       "<style scoped>\n",
       "    .dataframe tbody tr th:only-of-type {\n",
       "        vertical-align: middle;\n",
       "    }\n",
       "\n",
       "    .dataframe tbody tr th {\n",
       "        vertical-align: top;\n",
       "    }\n",
       "\n",
       "    .dataframe thead th {\n",
       "        text-align: right;\n",
       "    }\n",
       "</style>\n",
       "<table border=\"1\" class=\"dataframe\">\n",
       "  <thead>\n",
       "    <tr style=\"text-align: right;\">\n",
       "      <th></th>\n",
       "      <th>A</th>\n",
       "      <th>B</th>\n",
       "      <th>C</th>\n",
       "    </tr>\n",
       "  </thead>\n",
       "  <tbody>\n",
       "    <tr>\n",
       "      <th>2020-03-01</th>\n",
       "      <td>-1.330524</td>\n",
       "      <td>0.164591</td>\n",
       "      <td>-1.455314</td>\n",
       "    </tr>\n",
       "    <tr>\n",
       "      <th>2020-03-02</th>\n",
       "      <td>-0.701119</td>\n",
       "      <td>2.306586</td>\n",
       "      <td>-0.582896</td>\n",
       "    </tr>\n",
       "    <tr>\n",
       "      <th>2020-03-03</th>\n",
       "      <td>-1.035406</td>\n",
       "      <td>0.592216</td>\n",
       "      <td>-1.643747</td>\n",
       "    </tr>\n",
       "    <tr>\n",
       "      <th>2020-03-04</th>\n",
       "      <td>-1.075392</td>\n",
       "      <td>0.146805</td>\n",
       "      <td>-0.370437</td>\n",
       "    </tr>\n",
       "    <tr>\n",
       "      <th>2020-03-05</th>\n",
       "      <td>-0.174194</td>\n",
       "      <td>-0.133029</td>\n",
       "      <td>0.814202</td>\n",
       "    </tr>\n",
       "    <tr>\n",
       "      <th>2020-03-06</th>\n",
       "      <td>0.779613</td>\n",
       "      <td>-0.244397</td>\n",
       "      <td>0.848020</td>\n",
       "    </tr>\n",
       "    <tr>\n",
       "      <th>2020-03-07</th>\n",
       "      <td>1.083562</td>\n",
       "      <td>-0.083325</td>\n",
       "      <td>-0.357566</td>\n",
       "    </tr>\n",
       "    <tr>\n",
       "      <th>2020-03-08</th>\n",
       "      <td>0.082579</td>\n",
       "      <td>0.971309</td>\n",
       "      <td>-1.667247</td>\n",
       "    </tr>\n",
       "    <tr>\n",
       "      <th>2020-03-09</th>\n",
       "      <td>-0.796425</td>\n",
       "      <td>-0.900194</td>\n",
       "      <td>-1.380565</td>\n",
       "    </tr>\n",
       "    <tr>\n",
       "      <th>2020-03-10</th>\n",
       "      <td>-1.741924</td>\n",
       "      <td>-0.709927</td>\n",
       "      <td>-0.837603</td>\n",
       "    </tr>\n",
       "  </tbody>\n",
       "</table>\n",
       "</div>"
      ],
      "text/plain": [
       "                   A         B         C\n",
       "2020-03-01 -1.330524  0.164591 -1.455314\n",
       "2020-03-02 -0.701119  2.306586 -0.582896\n",
       "2020-03-03 -1.035406  0.592216 -1.643747\n",
       "2020-03-04 -1.075392  0.146805 -0.370437\n",
       "2020-03-05 -0.174194 -0.133029  0.814202\n",
       "2020-03-06  0.779613 -0.244397  0.848020\n",
       "2020-03-07  1.083562 -0.083325 -0.357566\n",
       "2020-03-08  0.082579  0.971309 -1.667247\n",
       "2020-03-09 -0.796425 -0.900194 -1.380565\n",
       "2020-03-10 -1.741924 -0.709927 -0.837603"
      ]
     },
     "execution_count": 22,
     "metadata": {},
     "output_type": "execute_result"
    }
   ],
   "source": [
    "df.fillna(value=2)"
   ]
  },
  {
   "cell_type": "code",
   "execution_count": null,
   "id": "f57f6a78",
   "metadata": {},
   "outputs": [],
   "source": [
    "#descriptive statistics"
   ]
  },
  {
   "cell_type": "code",
   "execution_count": 24,
   "id": "3f850e0c",
   "metadata": {},
   "outputs": [
    {
     "data": {
      "text/plain": [
       "A   -0.490923\n",
       "B    0.211064\n",
       "C   -0.663315\n",
       "dtype: float64"
      ]
     },
     "execution_count": 24,
     "metadata": {},
     "output_type": "execute_result"
    }
   ],
   "source": [
    "df.mean()"
   ]
  },
  {
   "cell_type": "code",
   "execution_count": 25,
   "id": "12300593",
   "metadata": {},
   "outputs": [
    {
     "data": {
      "text/plain": [
       "2020-03-01   -0.873749\n",
       "2020-03-02    0.340857\n",
       "2020-03-03   -0.695646\n",
       "2020-03-04   -0.433008\n",
       "2020-03-05    0.168993\n",
       "2020-03-06    0.461078\n",
       "2020-03-07    0.214224\n",
       "2020-03-08   -0.204453\n",
       "2020-03-09   -1.025728\n",
       "2020-03-10   -1.096485\n",
       "Freq: D, dtype: float64"
      ]
     },
     "execution_count": 25,
     "metadata": {},
     "output_type": "execute_result"
    }
   ],
   "source": [
    "df.mean(1)  #foe every index"
   ]
  },
  {
   "cell_type": "code",
   "execution_count": 26,
   "id": "1bf8eb91",
   "metadata": {},
   "outputs": [
    {
     "data": {
      "text/plain": [
       "2020-03-01    NaN\n",
       "2020-03-02    NaN\n",
       "2020-03-03    1.0\n",
       "2020-03-04    2.0\n",
       "2020-03-05    3.0\n",
       "2020-03-06    4.0\n",
       "2020-03-07    5.0\n",
       "2020-03-08    6.0\n",
       "2020-03-09    NaN\n",
       "2020-03-10    7.0\n",
       "Freq: D, dtype: float64"
      ]
     },
     "execution_count": 26,
     "metadata": {},
     "output_type": "execute_result"
    }
   ],
   "source": [
    "s = pd.Series([1,2,3,4,5,6,np.nan,7,8,9], index=d).shift(2)\n",
    "s"
   ]
  },
  {
   "cell_type": "code",
   "execution_count": 27,
   "id": "a16050b6",
   "metadata": {},
   "outputs": [
    {
     "data": {
      "text/html": [
       "<div>\n",
       "<style scoped>\n",
       "    .dataframe tbody tr th:only-of-type {\n",
       "        vertical-align: middle;\n",
       "    }\n",
       "\n",
       "    .dataframe tbody tr th {\n",
       "        vertical-align: top;\n",
       "    }\n",
       "\n",
       "    .dataframe thead th {\n",
       "        text-align: right;\n",
       "    }\n",
       "</style>\n",
       "<table border=\"1\" class=\"dataframe\">\n",
       "  <thead>\n",
       "    <tr style=\"text-align: right;\">\n",
       "      <th></th>\n",
       "      <th>A</th>\n",
       "      <th>B</th>\n",
       "      <th>C</th>\n",
       "    </tr>\n",
       "  </thead>\n",
       "  <tbody>\n",
       "    <tr>\n",
       "      <th>2020-03-01</th>\n",
       "      <td>NaN</td>\n",
       "      <td>NaN</td>\n",
       "      <td>NaN</td>\n",
       "    </tr>\n",
       "    <tr>\n",
       "      <th>2020-03-02</th>\n",
       "      <td>NaN</td>\n",
       "      <td>NaN</td>\n",
       "      <td>NaN</td>\n",
       "    </tr>\n",
       "    <tr>\n",
       "      <th>2020-03-03</th>\n",
       "      <td>-2.035406</td>\n",
       "      <td>-0.407784</td>\n",
       "      <td>-2.643747</td>\n",
       "    </tr>\n",
       "    <tr>\n",
       "      <th>2020-03-04</th>\n",
       "      <td>-3.075392</td>\n",
       "      <td>-1.853195</td>\n",
       "      <td>-2.370437</td>\n",
       "    </tr>\n",
       "    <tr>\n",
       "      <th>2020-03-05</th>\n",
       "      <td>-3.174194</td>\n",
       "      <td>-3.133029</td>\n",
       "      <td>-2.185798</td>\n",
       "    </tr>\n",
       "    <tr>\n",
       "      <th>2020-03-06</th>\n",
       "      <td>-3.220387</td>\n",
       "      <td>-4.244397</td>\n",
       "      <td>-3.151980</td>\n",
       "    </tr>\n",
       "    <tr>\n",
       "      <th>2020-03-07</th>\n",
       "      <td>-3.916438</td>\n",
       "      <td>-5.083325</td>\n",
       "      <td>-5.357566</td>\n",
       "    </tr>\n",
       "    <tr>\n",
       "      <th>2020-03-08</th>\n",
       "      <td>-5.917421</td>\n",
       "      <td>-5.028691</td>\n",
       "      <td>-7.667247</td>\n",
       "    </tr>\n",
       "    <tr>\n",
       "      <th>2020-03-09</th>\n",
       "      <td>NaN</td>\n",
       "      <td>NaN</td>\n",
       "      <td>NaN</td>\n",
       "    </tr>\n",
       "    <tr>\n",
       "      <th>2020-03-10</th>\n",
       "      <td>-8.741924</td>\n",
       "      <td>-7.709927</td>\n",
       "      <td>-7.837603</td>\n",
       "    </tr>\n",
       "  </tbody>\n",
       "</table>\n",
       "</div>"
      ],
      "text/plain": [
       "                   A         B         C\n",
       "2020-03-01       NaN       NaN       NaN\n",
       "2020-03-02       NaN       NaN       NaN\n",
       "2020-03-03 -2.035406 -0.407784 -2.643747\n",
       "2020-03-04 -3.075392 -1.853195 -2.370437\n",
       "2020-03-05 -3.174194 -3.133029 -2.185798\n",
       "2020-03-06 -3.220387 -4.244397 -3.151980\n",
       "2020-03-07 -3.916438 -5.083325 -5.357566\n",
       "2020-03-08 -5.917421 -5.028691 -7.667247\n",
       "2020-03-09       NaN       NaN       NaN\n",
       "2020-03-10 -8.741924 -7.709927 -7.837603"
      ]
     },
     "execution_count": 27,
     "metadata": {},
     "output_type": "execute_result"
    }
   ],
   "source": [
    "df.sub(s,axis='index')"
   ]
  },
  {
   "cell_type": "code",
   "execution_count": null,
   "id": "e6430f5e",
   "metadata": {},
   "outputs": [],
   "source": [
    "#applying functions"
   ]
  },
  {
   "cell_type": "code",
   "execution_count": 28,
   "id": "dd7dd4a4",
   "metadata": {},
   "outputs": [
    {
     "data": {
      "text/html": [
       "<div>\n",
       "<style scoped>\n",
       "    .dataframe tbody tr th:only-of-type {\n",
       "        vertical-align: middle;\n",
       "    }\n",
       "\n",
       "    .dataframe tbody tr th {\n",
       "        vertical-align: top;\n",
       "    }\n",
       "\n",
       "    .dataframe thead th {\n",
       "        text-align: right;\n",
       "    }\n",
       "</style>\n",
       "<table border=\"1\" class=\"dataframe\">\n",
       "  <thead>\n",
       "    <tr style=\"text-align: right;\">\n",
       "      <th></th>\n",
       "      <th>A</th>\n",
       "      <th>B</th>\n",
       "      <th>C</th>\n",
       "    </tr>\n",
       "  </thead>\n",
       "  <tbody>\n",
       "    <tr>\n",
       "      <th>2020-03-01</th>\n",
       "      <td>-1.330524</td>\n",
       "      <td>0.164591</td>\n",
       "      <td>-1.455314</td>\n",
       "    </tr>\n",
       "    <tr>\n",
       "      <th>2020-03-02</th>\n",
       "      <td>-2.031643</td>\n",
       "      <td>2.471177</td>\n",
       "      <td>-2.038210</td>\n",
       "    </tr>\n",
       "    <tr>\n",
       "      <th>2020-03-03</th>\n",
       "      <td>-3.067049</td>\n",
       "      <td>3.063393</td>\n",
       "      <td>-3.681957</td>\n",
       "    </tr>\n",
       "    <tr>\n",
       "      <th>2020-03-04</th>\n",
       "      <td>-4.142442</td>\n",
       "      <td>3.210199</td>\n",
       "      <td>-4.052394</td>\n",
       "    </tr>\n",
       "    <tr>\n",
       "      <th>2020-03-05</th>\n",
       "      <td>-4.316636</td>\n",
       "      <td>3.077170</td>\n",
       "      <td>-3.238192</td>\n",
       "    </tr>\n",
       "    <tr>\n",
       "      <th>2020-03-06</th>\n",
       "      <td>-3.537023</td>\n",
       "      <td>2.832772</td>\n",
       "      <td>-2.390172</td>\n",
       "    </tr>\n",
       "    <tr>\n",
       "      <th>2020-03-07</th>\n",
       "      <td>-2.453461</td>\n",
       "      <td>2.749447</td>\n",
       "      <td>-2.747738</td>\n",
       "    </tr>\n",
       "    <tr>\n",
       "      <th>2020-03-08</th>\n",
       "      <td>-2.370882</td>\n",
       "      <td>3.720756</td>\n",
       "      <td>-4.414985</td>\n",
       "    </tr>\n",
       "    <tr>\n",
       "      <th>2020-03-09</th>\n",
       "      <td>-3.167307</td>\n",
       "      <td>2.820562</td>\n",
       "      <td>-5.795550</td>\n",
       "    </tr>\n",
       "    <tr>\n",
       "      <th>2020-03-10</th>\n",
       "      <td>-4.909231</td>\n",
       "      <td>2.110635</td>\n",
       "      <td>-6.633154</td>\n",
       "    </tr>\n",
       "  </tbody>\n",
       "</table>\n",
       "</div>"
      ],
      "text/plain": [
       "                   A         B         C\n",
       "2020-03-01 -1.330524  0.164591 -1.455314\n",
       "2020-03-02 -2.031643  2.471177 -2.038210\n",
       "2020-03-03 -3.067049  3.063393 -3.681957\n",
       "2020-03-04 -4.142442  3.210199 -4.052394\n",
       "2020-03-05 -4.316636  3.077170 -3.238192\n",
       "2020-03-06 -3.537023  2.832772 -2.390172\n",
       "2020-03-07 -2.453461  2.749447 -2.747738\n",
       "2020-03-08 -2.370882  3.720756 -4.414985\n",
       "2020-03-09 -3.167307  2.820562 -5.795550\n",
       "2020-03-10 -4.909231  2.110635 -6.633154"
      ]
     },
     "execution_count": 28,
     "metadata": {},
     "output_type": "execute_result"
    }
   ],
   "source": [
    "df.apply(np.cumsum)"
   ]
  },
  {
   "cell_type": "code",
   "execution_count": 29,
   "id": "e3eb6b32",
   "metadata": {},
   "outputs": [
    {
     "data": {
      "text/plain": [
       "A    2.825486\n",
       "B    3.206780\n",
       "C    2.515266\n",
       "dtype: float64"
      ]
     },
     "execution_count": 29,
     "metadata": {},
     "output_type": "execute_result"
    }
   ],
   "source": [
    "df.apply(lambda x: x.max()-x.min())"
   ]
  },
  {
   "cell_type": "code",
   "execution_count": null,
   "id": "0777b13b",
   "metadata": {},
   "outputs": [],
   "source": [
    "#string processing operations"
   ]
  },
  {
   "cell_type": "code",
   "execution_count": 32,
   "id": "1293dcae",
   "metadata": {},
   "outputs": [],
   "source": [
    "st = pd.Series(['asd','LJKC','HJA',np.nan,'adf','jdaf'])"
   ]
  },
  {
   "cell_type": "code",
   "execution_count": 33,
   "id": "0817996a",
   "metadata": {},
   "outputs": [
    {
     "data": {
      "text/plain": [
       "0     ASD\n",
       "1    LJKC\n",
       "2     HJA\n",
       "3     NaN\n",
       "4     ADF\n",
       "5    JDAF\n",
       "dtype: object"
      ]
     },
     "execution_count": 33,
     "metadata": {},
     "output_type": "execute_result"
    }
   ],
   "source": [
    "st.str.upper()"
   ]
  },
  {
   "cell_type": "code",
   "execution_count": 34,
   "id": "6654ca7c",
   "metadata": {},
   "outputs": [
    {
     "data": {
      "text/plain": [
       "0     asd\n",
       "1    ljkc\n",
       "2     hja\n",
       "3     NaN\n",
       "4     adf\n",
       "5    jdaf\n",
       "dtype: object"
      ]
     },
     "execution_count": 34,
     "metadata": {},
     "output_type": "execute_result"
    }
   ],
   "source": [
    "st.str.lower()"
   ]
  },
  {
   "cell_type": "code",
   "execution_count": null,
   "id": "409bd308",
   "metadata": {},
   "outputs": [],
   "source": [
    "#histogramming"
   ]
  },
  {
   "cell_type": "code",
   "execution_count": 30,
   "id": "fbf96035",
   "metadata": {},
   "outputs": [
    {
     "data": {
      "text/plain": [
       "1.0    1\n",
       "2.0    1\n",
       "3.0    1\n",
       "4.0    1\n",
       "5.0    1\n",
       "6.0    1\n",
       "7.0    1\n",
       "dtype: int64"
      ]
     },
     "execution_count": 30,
     "metadata": {},
     "output_type": "execute_result"
    }
   ],
   "source": [
    "s.value_counts()"
   ]
  },
  {
   "cell_type": "code",
   "execution_count": null,
   "id": "013e0689",
   "metadata": {},
   "outputs": [],
   "source": [
    "# and create histogram"
   ]
  },
  {
   "cell_type": "code",
   "execution_count": 8,
   "id": "187290fa",
   "metadata": {},
   "outputs": [
    {
     "data": {
      "text/html": [
       "<div>\n",
       "<style scoped>\n",
       "    .dataframe tbody tr th:only-of-type {\n",
       "        vertical-align: middle;\n",
       "    }\n",
       "\n",
       "    .dataframe tbody tr th {\n",
       "        vertical-align: top;\n",
       "    }\n",
       "\n",
       "    .dataframe thead th {\n",
       "        text-align: right;\n",
       "    }\n",
       "</style>\n",
       "<table border=\"1\" class=\"dataframe\">\n",
       "  <thead>\n",
       "    <tr style=\"text-align: right;\">\n",
       "      <th></th>\n",
       "      <th>A</th>\n",
       "      <th>B</th>\n",
       "      <th>C</th>\n",
       "      <th>D</th>\n",
       "      <th>E</th>\n",
       "      <th>F</th>\n",
       "    </tr>\n",
       "  </thead>\n",
       "  <tbody>\n",
       "    <tr>\n",
       "      <th>0</th>\n",
       "      <td>1</td>\n",
       "      <td>2020-03-01</td>\n",
       "      <td>1.0</td>\n",
       "      <td>5</td>\n",
       "      <td>true</td>\n",
       "      <td>PANDAS</td>\n",
       "    </tr>\n",
       "    <tr>\n",
       "      <th>1</th>\n",
       "      <td>2</td>\n",
       "      <td>2020-03-01</td>\n",
       "      <td>1.0</td>\n",
       "      <td>5</td>\n",
       "      <td>false</td>\n",
       "      <td>PANDAS</td>\n",
       "    </tr>\n",
       "    <tr>\n",
       "      <th>2</th>\n",
       "      <td>3</td>\n",
       "      <td>2020-03-01</td>\n",
       "      <td>1.0</td>\n",
       "      <td>5</td>\n",
       "      <td>TRUE</td>\n",
       "      <td>PANDAS</td>\n",
       "    </tr>\n",
       "    <tr>\n",
       "      <th>3</th>\n",
       "      <td>4</td>\n",
       "      <td>2020-03-01</td>\n",
       "      <td>1.0</td>\n",
       "      <td>5</td>\n",
       "      <td>FALSE</td>\n",
       "      <td>PANDAS</td>\n",
       "    </tr>\n",
       "  </tbody>\n",
       "</table>\n",
       "</div>"
      ],
      "text/plain": [
       "   A          B    C  D      E       F\n",
       "0  1 2020-03-01  1.0  5   true  PANDAS\n",
       "1  2 2020-03-01  1.0  5  false  PANDAS\n",
       "2  3 2020-03-01  1.0  5   TRUE  PANDAS\n",
       "3  4 2020-03-01  1.0  5  FALSE  PANDAS"
      ]
     },
     "execution_count": 8,
     "metadata": {},
     "output_type": "execute_result"
    }
   ],
   "source": [
    "df = pd.DataFrame({\n",
    "    \"A\":[1,2,3,4],\n",
    "    \"B\":pd.Timestamp('20200301'),\n",
    "    \"C\":pd.Series(1, index=list(range(4)), dtype='float32'),\n",
    "    \"D\":np.array([5]*4, dtype='int32'),\n",
    "    \"E\":pd.Categorical(['true','false','TRUE','FALSE']),\n",
    "    \"F\":'PANDAS'\n",
    "}\n",
    ")\n",
    "\n",
    "df"
   ]
  },
  {
   "cell_type": "code",
   "execution_count": 9,
   "id": "e118bce0",
   "metadata": {},
   "outputs": [
    {
     "data": {
      "text/plain": [
       "A             int64\n",
       "B    datetime64[ns]\n",
       "C           float32\n",
       "D             int32\n",
       "E          category\n",
       "F            object\n",
       "dtype: object"
      ]
     },
     "execution_count": 9,
     "metadata": {},
     "output_type": "execute_result"
    }
   ],
   "source": [
    "df.dtypes"
   ]
  },
  {
   "cell_type": "code",
   "execution_count": 39,
   "id": "d130b86b",
   "metadata": {},
   "outputs": [
    {
     "data": {
      "text/html": [
       "<div>\n",
       "<style scoped>\n",
       "    .dataframe tbody tr th:only-of-type {\n",
       "        vertical-align: middle;\n",
       "    }\n",
       "\n",
       "    .dataframe tbody tr th {\n",
       "        vertical-align: top;\n",
       "    }\n",
       "\n",
       "    .dataframe thead th {\n",
       "        text-align: right;\n",
       "    }\n",
       "</style>\n",
       "<table border=\"1\" class=\"dataframe\">\n",
       "  <thead>\n",
       "    <tr style=\"text-align: right;\">\n",
       "      <th></th>\n",
       "      <th>0</th>\n",
       "      <th>1</th>\n",
       "      <th>2</th>\n",
       "      <th>3</th>\n",
       "    </tr>\n",
       "  </thead>\n",
       "  <tbody>\n",
       "    <tr>\n",
       "      <th>0</th>\n",
       "      <td>-0.611937</td>\n",
       "      <td>1.444652</td>\n",
       "      <td>0.937883</td>\n",
       "      <td>-1.902322</td>\n",
       "    </tr>\n",
       "    <tr>\n",
       "      <th>1</th>\n",
       "      <td>-1.675359</td>\n",
       "      <td>0.474367</td>\n",
       "      <td>-0.874862</td>\n",
       "      <td>0.656302</td>\n",
       "    </tr>\n",
       "    <tr>\n",
       "      <th>2</th>\n",
       "      <td>0.653230</td>\n",
       "      <td>0.004820</td>\n",
       "      <td>-1.578850</td>\n",
       "      <td>1.562244</td>\n",
       "    </tr>\n",
       "    <tr>\n",
       "      <th>3</th>\n",
       "      <td>1.226580</td>\n",
       "      <td>0.367933</td>\n",
       "      <td>-0.973772</td>\n",
       "      <td>0.006522</td>\n",
       "    </tr>\n",
       "    <tr>\n",
       "      <th>4</th>\n",
       "      <td>-0.215837</td>\n",
       "      <td>0.513821</td>\n",
       "      <td>0.353134</td>\n",
       "      <td>-1.046753</td>\n",
       "    </tr>\n",
       "    <tr>\n",
       "      <th>5</th>\n",
       "      <td>-0.181566</td>\n",
       "      <td>-0.263856</td>\n",
       "      <td>-1.019106</td>\n",
       "      <td>-0.787111</td>\n",
       "    </tr>\n",
       "    <tr>\n",
       "      <th>6</th>\n",
       "      <td>-0.176434</td>\n",
       "      <td>0.170666</td>\n",
       "      <td>-0.076273</td>\n",
       "      <td>0.381932</td>\n",
       "    </tr>\n",
       "    <tr>\n",
       "      <th>7</th>\n",
       "      <td>0.505043</td>\n",
       "      <td>1.454586</td>\n",
       "      <td>0.704550</td>\n",
       "      <td>-0.743425</td>\n",
       "    </tr>\n",
       "    <tr>\n",
       "      <th>8</th>\n",
       "      <td>2.564207</td>\n",
       "      <td>0.555606</td>\n",
       "      <td>-2.413474</td>\n",
       "      <td>-1.459704</td>\n",
       "    </tr>\n",
       "    <tr>\n",
       "      <th>9</th>\n",
       "      <td>-1.883120</td>\n",
       "      <td>-0.713292</td>\n",
       "      <td>-1.392334</td>\n",
       "      <td>-0.093093</td>\n",
       "    </tr>\n",
       "  </tbody>\n",
       "</table>\n",
       "</div>"
      ],
      "text/plain": [
       "          0         1         2         3\n",
       "0 -0.611937  1.444652  0.937883 -1.902322\n",
       "1 -1.675359  0.474367 -0.874862  0.656302\n",
       "2  0.653230  0.004820 -1.578850  1.562244\n",
       "3  1.226580  0.367933 -0.973772  0.006522\n",
       "4 -0.215837  0.513821  0.353134 -1.046753\n",
       "5 -0.181566 -0.263856 -1.019106 -0.787111\n",
       "6 -0.176434  0.170666 -0.076273  0.381932\n",
       "7  0.505043  1.454586  0.704550 -0.743425\n",
       "8  2.564207  0.555606 -2.413474 -1.459704\n",
       "9 -1.883120 -0.713292 -1.392334 -0.093093"
      ]
     },
     "execution_count": 39,
     "metadata": {},
     "output_type": "execute_result"
    }
   ],
   "source": [
    "df1 = pd.DataFrame(np.random.randn(10,4))\n",
    "df1"
   ]
  },
  {
   "cell_type": "code",
   "execution_count": 40,
   "id": "d78e6b00",
   "metadata": {},
   "outputs": [
    {
     "data": {
      "text/plain": [
       "[          0         1         2         3\n",
       " 0 -0.611937  1.444652  0.937883 -1.902322\n",
       " 1 -1.675359  0.474367 -0.874862  0.656302\n",
       " 2  0.653230  0.004820 -1.578850  1.562244,\n",
       "           0         1         2         3\n",
       " 3  1.226580  0.367933 -0.973772  0.006522\n",
       " 4 -0.215837  0.513821  0.353134 -1.046753\n",
       " 5 -0.181566 -0.263856 -1.019106 -0.787111\n",
       " 6 -0.176434  0.170666 -0.076273  0.381932,\n",
       "           0         1         2         3\n",
       " 7  0.505043  1.454586  0.704550 -0.743425\n",
       " 8  2.564207  0.555606 -2.413474 -1.459704\n",
       " 9 -1.883120 -0.713292 -1.392334 -0.093093]"
      ]
     },
     "execution_count": 40,
     "metadata": {},
     "output_type": "execute_result"
    }
   ],
   "source": [
    "df3 = [df1[:3],df1[3:7],df1[7:]]\n",
    "df3"
   ]
  },
  {
   "cell_type": "code",
   "execution_count": 41,
   "id": "ea94be7c",
   "metadata": {},
   "outputs": [
    {
     "data": {
      "text/html": [
       "<div>\n",
       "<style scoped>\n",
       "    .dataframe tbody tr th:only-of-type {\n",
       "        vertical-align: middle;\n",
       "    }\n",
       "\n",
       "    .dataframe tbody tr th {\n",
       "        vertical-align: top;\n",
       "    }\n",
       "\n",
       "    .dataframe thead th {\n",
       "        text-align: right;\n",
       "    }\n",
       "</style>\n",
       "<table border=\"1\" class=\"dataframe\">\n",
       "  <thead>\n",
       "    <tr style=\"text-align: right;\">\n",
       "      <th></th>\n",
       "      <th>0</th>\n",
       "      <th>1</th>\n",
       "      <th>2</th>\n",
       "      <th>3</th>\n",
       "    </tr>\n",
       "  </thead>\n",
       "  <tbody>\n",
       "    <tr>\n",
       "      <th>0</th>\n",
       "      <td>-0.611937</td>\n",
       "      <td>1.444652</td>\n",
       "      <td>0.937883</td>\n",
       "      <td>-1.902322</td>\n",
       "    </tr>\n",
       "    <tr>\n",
       "      <th>1</th>\n",
       "      <td>-1.675359</td>\n",
       "      <td>0.474367</td>\n",
       "      <td>-0.874862</td>\n",
       "      <td>0.656302</td>\n",
       "    </tr>\n",
       "    <tr>\n",
       "      <th>2</th>\n",
       "      <td>0.653230</td>\n",
       "      <td>0.004820</td>\n",
       "      <td>-1.578850</td>\n",
       "      <td>1.562244</td>\n",
       "    </tr>\n",
       "    <tr>\n",
       "      <th>3</th>\n",
       "      <td>1.226580</td>\n",
       "      <td>0.367933</td>\n",
       "      <td>-0.973772</td>\n",
       "      <td>0.006522</td>\n",
       "    </tr>\n",
       "    <tr>\n",
       "      <th>4</th>\n",
       "      <td>-0.215837</td>\n",
       "      <td>0.513821</td>\n",
       "      <td>0.353134</td>\n",
       "      <td>-1.046753</td>\n",
       "    </tr>\n",
       "    <tr>\n",
       "      <th>5</th>\n",
       "      <td>-0.181566</td>\n",
       "      <td>-0.263856</td>\n",
       "      <td>-1.019106</td>\n",
       "      <td>-0.787111</td>\n",
       "    </tr>\n",
       "    <tr>\n",
       "      <th>6</th>\n",
       "      <td>-0.176434</td>\n",
       "      <td>0.170666</td>\n",
       "      <td>-0.076273</td>\n",
       "      <td>0.381932</td>\n",
       "    </tr>\n",
       "    <tr>\n",
       "      <th>7</th>\n",
       "      <td>0.505043</td>\n",
       "      <td>1.454586</td>\n",
       "      <td>0.704550</td>\n",
       "      <td>-0.743425</td>\n",
       "    </tr>\n",
       "    <tr>\n",
       "      <th>8</th>\n",
       "      <td>2.564207</td>\n",
       "      <td>0.555606</td>\n",
       "      <td>-2.413474</td>\n",
       "      <td>-1.459704</td>\n",
       "    </tr>\n",
       "    <tr>\n",
       "      <th>9</th>\n",
       "      <td>-1.883120</td>\n",
       "      <td>-0.713292</td>\n",
       "      <td>-1.392334</td>\n",
       "      <td>-0.093093</td>\n",
       "    </tr>\n",
       "  </tbody>\n",
       "</table>\n",
       "</div>"
      ],
      "text/plain": [
       "          0         1         2         3\n",
       "0 -0.611937  1.444652  0.937883 -1.902322\n",
       "1 -1.675359  0.474367 -0.874862  0.656302\n",
       "2  0.653230  0.004820 -1.578850  1.562244\n",
       "3  1.226580  0.367933 -0.973772  0.006522\n",
       "4 -0.215837  0.513821  0.353134 -1.046753\n",
       "5 -0.181566 -0.263856 -1.019106 -0.787111\n",
       "6 -0.176434  0.170666 -0.076273  0.381932\n",
       "7  0.505043  1.454586  0.704550 -0.743425\n",
       "8  2.564207  0.555606 -2.413474 -1.459704\n",
       "9 -1.883120 -0.713292 -1.392334 -0.093093"
      ]
     },
     "execution_count": 41,
     "metadata": {},
     "output_type": "execute_result"
    }
   ],
   "source": [
    "pd.concat(df3)"
   ]
  },
  {
   "cell_type": "code",
   "execution_count": 44,
   "id": "0fd0cab9",
   "metadata": {},
   "outputs": [
    {
     "data": {
      "text/html": [
       "<div>\n",
       "<style scoped>\n",
       "    .dataframe tbody tr th:only-of-type {\n",
       "        vertical-align: middle;\n",
       "    }\n",
       "\n",
       "    .dataframe tbody tr th {\n",
       "        vertical-align: top;\n",
       "    }\n",
       "\n",
       "    .dataframe thead th {\n",
       "        text-align: right;\n",
       "    }\n",
       "</style>\n",
       "<table border=\"1\" class=\"dataframe\">\n",
       "  <thead>\n",
       "    <tr style=\"text-align: right;\">\n",
       "      <th></th>\n",
       "      <th>A</th>\n",
       "      <th>B</th>\n",
       "    </tr>\n",
       "  </thead>\n",
       "  <tbody>\n",
       "    <tr>\n",
       "      <th>0</th>\n",
       "      <td>1</td>\n",
       "      <td>3</td>\n",
       "    </tr>\n",
       "    <tr>\n",
       "      <th>1</th>\n",
       "      <td>2</td>\n",
       "      <td>4</td>\n",
       "    </tr>\n",
       "  </tbody>\n",
       "</table>\n",
       "</div>"
      ],
      "text/plain": [
       "   A  B\n",
       "0  1  3\n",
       "1  2  4"
      ]
     },
     "execution_count": 44,
     "metadata": {},
     "output_type": "execute_result"
    }
   ],
   "source": [
    "left = pd.DataFrame({'A':[1,2], 'B':[3,4]})\n",
    "left"
   ]
  },
  {
   "cell_type": "code",
   "execution_count": 46,
   "id": "47e6abce",
   "metadata": {},
   "outputs": [
    {
     "data": {
      "text/html": [
       "<div>\n",
       "<style scoped>\n",
       "    .dataframe tbody tr th:only-of-type {\n",
       "        vertical-align: middle;\n",
       "    }\n",
       "\n",
       "    .dataframe tbody tr th {\n",
       "        vertical-align: top;\n",
       "    }\n",
       "\n",
       "    .dataframe thead th {\n",
       "        text-align: right;\n",
       "    }\n",
       "</style>\n",
       "<table border=\"1\" class=\"dataframe\">\n",
       "  <thead>\n",
       "    <tr style=\"text-align: right;\">\n",
       "      <th></th>\n",
       "      <th>A</th>\n",
       "      <th>D</th>\n",
       "    </tr>\n",
       "  </thead>\n",
       "  <tbody>\n",
       "    <tr>\n",
       "      <th>0</th>\n",
       "      <td>5</td>\n",
       "      <td>7</td>\n",
       "    </tr>\n",
       "    <tr>\n",
       "      <th>1</th>\n",
       "      <td>6</td>\n",
       "      <td>8</td>\n",
       "    </tr>\n",
       "  </tbody>\n",
       "</table>\n",
       "</div>"
      ],
      "text/plain": [
       "   A  D\n",
       "0  5  7\n",
       "1  6  8"
      ]
     },
     "execution_count": 46,
     "metadata": {},
     "output_type": "execute_result"
    }
   ],
   "source": [
    "right = pd.DataFrame({'A':[5,6], 'D':[7,8]})\n",
    "right"
   ]
  },
  {
   "cell_type": "code",
   "execution_count": 47,
   "id": "59d386e4",
   "metadata": {},
   "outputs": [
    {
     "data": {
      "text/html": [
       "<div>\n",
       "<style scoped>\n",
       "    .dataframe tbody tr th:only-of-type {\n",
       "        vertical-align: middle;\n",
       "    }\n",
       "\n",
       "    .dataframe tbody tr th {\n",
       "        vertical-align: top;\n",
       "    }\n",
       "\n",
       "    .dataframe thead th {\n",
       "        text-align: right;\n",
       "    }\n",
       "</style>\n",
       "<table border=\"1\" class=\"dataframe\">\n",
       "  <thead>\n",
       "    <tr style=\"text-align: right;\">\n",
       "      <th></th>\n",
       "      <th>A</th>\n",
       "      <th>B</th>\n",
       "      <th>D</th>\n",
       "    </tr>\n",
       "  </thead>\n",
       "  <tbody>\n",
       "  </tbody>\n",
       "</table>\n",
       "</div>"
      ],
      "text/plain": [
       "Empty DataFrame\n",
       "Columns: [A, B, D]\n",
       "Index: []"
      ]
     },
     "execution_count": 47,
     "metadata": {},
     "output_type": "execute_result"
    }
   ],
   "source": [
    "pd.merge(left,right,on='A')"
   ]
  },
  {
   "cell_type": "code",
   "execution_count": 48,
   "id": "1ef7c7e2",
   "metadata": {},
   "outputs": [
    {
     "data": {
      "text/html": [
       "<div>\n",
       "<style scoped>\n",
       "    .dataframe tbody tr th:only-of-type {\n",
       "        vertical-align: middle;\n",
       "    }\n",
       "\n",
       "    .dataframe tbody tr th {\n",
       "        vertical-align: top;\n",
       "    }\n",
       "\n",
       "    .dataframe thead th {\n",
       "        text-align: right;\n",
       "    }\n",
       "</style>\n",
       "<table border=\"1\" class=\"dataframe\">\n",
       "  <thead>\n",
       "    <tr style=\"text-align: right;\">\n",
       "      <th></th>\n",
       "      <th>B</th>\n",
       "      <th>C</th>\n",
       "    </tr>\n",
       "    <tr>\n",
       "      <th>A</th>\n",
       "      <th></th>\n",
       "      <th></th>\n",
       "    </tr>\n",
       "  </thead>\n",
       "  <tbody>\n",
       "    <tr>\n",
       "      <th>-1.741924</th>\n",
       "      <td>-0.709927</td>\n",
       "      <td>-0.837603</td>\n",
       "    </tr>\n",
       "    <tr>\n",
       "      <th>-1.330524</th>\n",
       "      <td>0.164591</td>\n",
       "      <td>-1.455314</td>\n",
       "    </tr>\n",
       "    <tr>\n",
       "      <th>-1.075392</th>\n",
       "      <td>0.146805</td>\n",
       "      <td>-0.370437</td>\n",
       "    </tr>\n",
       "    <tr>\n",
       "      <th>-1.035406</th>\n",
       "      <td>0.592216</td>\n",
       "      <td>-1.643747</td>\n",
       "    </tr>\n",
       "    <tr>\n",
       "      <th>-0.796425</th>\n",
       "      <td>-0.900194</td>\n",
       "      <td>-1.380565</td>\n",
       "    </tr>\n",
       "    <tr>\n",
       "      <th>-0.701119</th>\n",
       "      <td>2.306586</td>\n",
       "      <td>-0.582896</td>\n",
       "    </tr>\n",
       "    <tr>\n",
       "      <th>-0.174194</th>\n",
       "      <td>-0.133029</td>\n",
       "      <td>0.814202</td>\n",
       "    </tr>\n",
       "    <tr>\n",
       "      <th>0.082579</th>\n",
       "      <td>0.971309</td>\n",
       "      <td>-1.667247</td>\n",
       "    </tr>\n",
       "    <tr>\n",
       "      <th>0.779613</th>\n",
       "      <td>-0.244397</td>\n",
       "      <td>0.848020</td>\n",
       "    </tr>\n",
       "    <tr>\n",
       "      <th>1.083562</th>\n",
       "      <td>-0.083325</td>\n",
       "      <td>-0.357566</td>\n",
       "    </tr>\n",
       "  </tbody>\n",
       "</table>\n",
       "</div>"
      ],
      "text/plain": [
       "                  B         C\n",
       "A                            \n",
       "-1.741924 -0.709927 -0.837603\n",
       "-1.330524  0.164591 -1.455314\n",
       "-1.075392  0.146805 -0.370437\n",
       "-1.035406  0.592216 -1.643747\n",
       "-0.796425 -0.900194 -1.380565\n",
       "-0.701119  2.306586 -0.582896\n",
       "-0.174194 -0.133029  0.814202\n",
       " 0.082579  0.971309 -1.667247\n",
       " 0.779613 -0.244397  0.848020\n",
       " 1.083562 -0.083325 -0.357566"
      ]
     },
     "execution_count": 48,
     "metadata": {},
     "output_type": "execute_result"
    }
   ],
   "source": [
    "df.groupby('A').sum()"
   ]
  },
  {
   "cell_type": "code",
   "execution_count": 49,
   "id": "126d5f2f",
   "metadata": {},
   "outputs": [
    {
     "data": {
      "text/html": [
       "<div>\n",
       "<style scoped>\n",
       "    .dataframe tbody tr th:only-of-type {\n",
       "        vertical-align: middle;\n",
       "    }\n",
       "\n",
       "    .dataframe tbody tr th {\n",
       "        vertical-align: top;\n",
       "    }\n",
       "\n",
       "    .dataframe thead th {\n",
       "        text-align: right;\n",
       "    }\n",
       "</style>\n",
       "<table border=\"1\" class=\"dataframe\">\n",
       "  <thead>\n",
       "    <tr style=\"text-align: right;\">\n",
       "      <th></th>\n",
       "      <th></th>\n",
       "      <th>C</th>\n",
       "    </tr>\n",
       "    <tr>\n",
       "      <th>A</th>\n",
       "      <th>B</th>\n",
       "      <th></th>\n",
       "    </tr>\n",
       "  </thead>\n",
       "  <tbody>\n",
       "    <tr>\n",
       "      <th>-1.741924</th>\n",
       "      <th>-0.709927</th>\n",
       "      <td>-0.837603</td>\n",
       "    </tr>\n",
       "    <tr>\n",
       "      <th>-1.330524</th>\n",
       "      <th>0.164591</th>\n",
       "      <td>-1.455314</td>\n",
       "    </tr>\n",
       "    <tr>\n",
       "      <th>-1.075392</th>\n",
       "      <th>0.146805</th>\n",
       "      <td>-0.370437</td>\n",
       "    </tr>\n",
       "    <tr>\n",
       "      <th>-1.035406</th>\n",
       "      <th>0.592216</th>\n",
       "      <td>-1.643747</td>\n",
       "    </tr>\n",
       "    <tr>\n",
       "      <th>-0.796425</th>\n",
       "      <th>-0.900194</th>\n",
       "      <td>-1.380565</td>\n",
       "    </tr>\n",
       "    <tr>\n",
       "      <th>-0.701119</th>\n",
       "      <th>2.306586</th>\n",
       "      <td>-0.582896</td>\n",
       "    </tr>\n",
       "    <tr>\n",
       "      <th>-0.174194</th>\n",
       "      <th>-0.133029</th>\n",
       "      <td>0.814202</td>\n",
       "    </tr>\n",
       "    <tr>\n",
       "      <th>0.082579</th>\n",
       "      <th>0.971309</th>\n",
       "      <td>-1.667247</td>\n",
       "    </tr>\n",
       "    <tr>\n",
       "      <th>0.779613</th>\n",
       "      <th>-0.244397</th>\n",
       "      <td>0.848020</td>\n",
       "    </tr>\n",
       "    <tr>\n",
       "      <th>1.083562</th>\n",
       "      <th>-0.083325</th>\n",
       "      <td>-0.357566</td>\n",
       "    </tr>\n",
       "  </tbody>\n",
       "</table>\n",
       "</div>"
      ],
      "text/plain": [
       "                            C\n",
       "A         B                  \n",
       "-1.741924 -0.709927 -0.837603\n",
       "-1.330524  0.164591 -1.455314\n",
       "-1.075392  0.146805 -0.370437\n",
       "-1.035406  0.592216 -1.643747\n",
       "-0.796425 -0.900194 -1.380565\n",
       "-0.701119  2.306586 -0.582896\n",
       "-0.174194 -0.133029  0.814202\n",
       " 0.082579  0.971309 -1.667247\n",
       " 0.779613 -0.244397  0.848020\n",
       " 1.083562 -0.083325 -0.357566"
      ]
     },
     "execution_count": 49,
     "metadata": {},
     "output_type": "execute_result"
    }
   ],
   "source": [
    "df.groupby(['A','B']).sum()"
   ]
  },
  {
   "cell_type": "code",
   "execution_count": 51,
   "id": "8b0b900d",
   "metadata": {},
   "outputs": [],
   "source": [
    "my_tuple =list(zip(*[[1,2,3,4,5,6,7,8],[9,10,11,12,13,14,15,16]]))"
   ]
  },
  {
   "cell_type": "code",
   "execution_count": 52,
   "id": "d357c7ee",
   "metadata": {},
   "outputs": [],
   "source": [
    "index = pd.MultiIndex.from_tuples(my_tuple, names=['First','Second'])"
   ]
  },
  {
   "cell_type": "code",
   "execution_count": 53,
   "id": "e4d73fd2",
   "metadata": {},
   "outputs": [],
   "source": [
    "df = pd.DataFrame(np.random.randn(8,2), index=index, columns=['A','B'])"
   ]
  },
  {
   "cell_type": "code",
   "execution_count": 54,
   "id": "71afbd11",
   "metadata": {},
   "outputs": [
    {
     "data": {
      "text/html": [
       "<div>\n",
       "<style scoped>\n",
       "    .dataframe tbody tr th:only-of-type {\n",
       "        vertical-align: middle;\n",
       "    }\n",
       "\n",
       "    .dataframe tbody tr th {\n",
       "        vertical-align: top;\n",
       "    }\n",
       "\n",
       "    .dataframe thead th {\n",
       "        text-align: right;\n",
       "    }\n",
       "</style>\n",
       "<table border=\"1\" class=\"dataframe\">\n",
       "  <thead>\n",
       "    <tr style=\"text-align: right;\">\n",
       "      <th></th>\n",
       "      <th></th>\n",
       "      <th>A</th>\n",
       "      <th>B</th>\n",
       "    </tr>\n",
       "    <tr>\n",
       "      <th>First</th>\n",
       "      <th>Second</th>\n",
       "      <th></th>\n",
       "      <th></th>\n",
       "    </tr>\n",
       "  </thead>\n",
       "  <tbody>\n",
       "    <tr>\n",
       "      <th>1</th>\n",
       "      <th>9</th>\n",
       "      <td>-0.904131</td>\n",
       "      <td>-0.216139</td>\n",
       "    </tr>\n",
       "    <tr>\n",
       "      <th>2</th>\n",
       "      <th>10</th>\n",
       "      <td>-0.481654</td>\n",
       "      <td>0.363438</td>\n",
       "    </tr>\n",
       "    <tr>\n",
       "      <th>3</th>\n",
       "      <th>11</th>\n",
       "      <td>0.177402</td>\n",
       "      <td>0.191618</td>\n",
       "    </tr>\n",
       "    <tr>\n",
       "      <th>4</th>\n",
       "      <th>12</th>\n",
       "      <td>-0.026145</td>\n",
       "      <td>0.818747</td>\n",
       "    </tr>\n",
       "  </tbody>\n",
       "</table>\n",
       "</div>"
      ],
      "text/plain": [
       "                     A         B\n",
       "First Second                    \n",
       "1     9      -0.904131 -0.216139\n",
       "2     10     -0.481654  0.363438\n",
       "3     11      0.177402  0.191618\n",
       "4     12     -0.026145  0.818747"
      ]
     },
     "execution_count": 54,
     "metadata": {},
     "output_type": "execute_result"
    }
   ],
   "source": [
    "df2 = df[:4]\n",
    "df2"
   ]
  },
  {
   "cell_type": "code",
   "execution_count": 55,
   "id": "df6cf6c4",
   "metadata": {},
   "outputs": [
    {
     "data": {
      "text/plain": [
       "First  Second   \n",
       "1      9       A   -0.904131\n",
       "               B   -0.216139\n",
       "2      10      A   -0.481654\n",
       "               B    0.363438\n",
       "3      11      A    0.177402\n",
       "               B    0.191618\n",
       "4      12      A   -0.026145\n",
       "               B    0.818747\n",
       "dtype: float64"
      ]
     },
     "execution_count": 55,
     "metadata": {},
     "output_type": "execute_result"
    }
   ],
   "source": [
    "df2.stack()"
   ]
  },
  {
   "cell_type": "code",
   "execution_count": 56,
   "id": "66dcf94f",
   "metadata": {},
   "outputs": [
    {
     "data": {
      "text/html": [
       "<div>\n",
       "<style scoped>\n",
       "    .dataframe tbody tr th:only-of-type {\n",
       "        vertical-align: middle;\n",
       "    }\n",
       "\n",
       "    .dataframe tbody tr th {\n",
       "        vertical-align: top;\n",
       "    }\n",
       "\n",
       "    .dataframe thead tr th {\n",
       "        text-align: left;\n",
       "    }\n",
       "\n",
       "    .dataframe thead tr:last-of-type th {\n",
       "        text-align: right;\n",
       "    }\n",
       "</style>\n",
       "<table border=\"1\" class=\"dataframe\">\n",
       "  <thead>\n",
       "    <tr>\n",
       "      <th></th>\n",
       "      <th colspan=\"4\" halign=\"left\">A</th>\n",
       "      <th colspan=\"4\" halign=\"left\">B</th>\n",
       "    </tr>\n",
       "    <tr>\n",
       "      <th>Second</th>\n",
       "      <th>9</th>\n",
       "      <th>10</th>\n",
       "      <th>11</th>\n",
       "      <th>12</th>\n",
       "      <th>9</th>\n",
       "      <th>10</th>\n",
       "      <th>11</th>\n",
       "      <th>12</th>\n",
       "    </tr>\n",
       "    <tr>\n",
       "      <th>First</th>\n",
       "      <th></th>\n",
       "      <th></th>\n",
       "      <th></th>\n",
       "      <th></th>\n",
       "      <th></th>\n",
       "      <th></th>\n",
       "      <th></th>\n",
       "      <th></th>\n",
       "    </tr>\n",
       "  </thead>\n",
       "  <tbody>\n",
       "    <tr>\n",
       "      <th>1</th>\n",
       "      <td>-0.904131</td>\n",
       "      <td>NaN</td>\n",
       "      <td>NaN</td>\n",
       "      <td>NaN</td>\n",
       "      <td>-0.216139</td>\n",
       "      <td>NaN</td>\n",
       "      <td>NaN</td>\n",
       "      <td>NaN</td>\n",
       "    </tr>\n",
       "    <tr>\n",
       "      <th>2</th>\n",
       "      <td>NaN</td>\n",
       "      <td>-0.481654</td>\n",
       "      <td>NaN</td>\n",
       "      <td>NaN</td>\n",
       "      <td>NaN</td>\n",
       "      <td>0.363438</td>\n",
       "      <td>NaN</td>\n",
       "      <td>NaN</td>\n",
       "    </tr>\n",
       "    <tr>\n",
       "      <th>3</th>\n",
       "      <td>NaN</td>\n",
       "      <td>NaN</td>\n",
       "      <td>0.177402</td>\n",
       "      <td>NaN</td>\n",
       "      <td>NaN</td>\n",
       "      <td>NaN</td>\n",
       "      <td>0.191618</td>\n",
       "      <td>NaN</td>\n",
       "    </tr>\n",
       "    <tr>\n",
       "      <th>4</th>\n",
       "      <td>NaN</td>\n",
       "      <td>NaN</td>\n",
       "      <td>NaN</td>\n",
       "      <td>-0.026145</td>\n",
       "      <td>NaN</td>\n",
       "      <td>NaN</td>\n",
       "      <td>NaN</td>\n",
       "      <td>0.818747</td>\n",
       "    </tr>\n",
       "  </tbody>\n",
       "</table>\n",
       "</div>"
      ],
      "text/plain": [
       "               A                                       B                      \\\n",
       "Second        9         10        11        12        9         10        11   \n",
       "First                                                                          \n",
       "1      -0.904131       NaN       NaN       NaN -0.216139       NaN       NaN   \n",
       "2            NaN -0.481654       NaN       NaN       NaN  0.363438       NaN   \n",
       "3            NaN       NaN  0.177402       NaN       NaN       NaN  0.191618   \n",
       "4            NaN       NaN       NaN -0.026145       NaN       NaN       NaN   \n",
       "\n",
       "                  \n",
       "Second        12  \n",
       "First             \n",
       "1            NaN  \n",
       "2            NaN  \n",
       "3            NaN  \n",
       "4       0.818747  "
      ]
     },
     "execution_count": 56,
     "metadata": {},
     "output_type": "execute_result"
    }
   ],
   "source": [
    "df2.unstack()"
   ]
  },
  {
   "cell_type": "code",
   "execution_count": 59,
   "id": "51cb9bca",
   "metadata": {},
   "outputs": [
    {
     "data": {
      "text/html": [
       "<div>\n",
       "<style scoped>\n",
       "    .dataframe tbody tr th:only-of-type {\n",
       "        vertical-align: middle;\n",
       "    }\n",
       "\n",
       "    .dataframe tbody tr th {\n",
       "        vertical-align: top;\n",
       "    }\n",
       "\n",
       "    .dataframe thead th {\n",
       "        text-align: right;\n",
       "    }\n",
       "</style>\n",
       "<table border=\"1\" class=\"dataframe\">\n",
       "  <thead>\n",
       "    <tr style=\"text-align: right;\">\n",
       "      <th></th>\n",
       "      <th>A</th>\n",
       "      <th>B</th>\n",
       "      <th>C</th>\n",
       "      <th>D</th>\n",
       "      <th>E</th>\n",
       "    </tr>\n",
       "  </thead>\n",
       "  <tbody>\n",
       "    <tr>\n",
       "      <th>0</th>\n",
       "      <td>a</td>\n",
       "      <td>A</td>\n",
       "      <td>P</td>\n",
       "      <td>-0.965086</td>\n",
       "      <td>-0.350473</td>\n",
       "    </tr>\n",
       "    <tr>\n",
       "      <th>1</th>\n",
       "      <td>b</td>\n",
       "      <td>B</td>\n",
       "      <td>P</td>\n",
       "      <td>-0.269785</td>\n",
       "      <td>0.666216</td>\n",
       "    </tr>\n",
       "    <tr>\n",
       "      <th>2</th>\n",
       "      <td>c</td>\n",
       "      <td>C</td>\n",
       "      <td>P</td>\n",
       "      <td>0.000496</td>\n",
       "      <td>-1.265721</td>\n",
       "    </tr>\n",
       "    <tr>\n",
       "      <th>3</th>\n",
       "      <td>d</td>\n",
       "      <td>A</td>\n",
       "      <td>Q</td>\n",
       "      <td>-2.133162</td>\n",
       "      <td>0.476441</td>\n",
       "    </tr>\n",
       "    <tr>\n",
       "      <th>4</th>\n",
       "      <td>a</td>\n",
       "      <td>B</td>\n",
       "      <td>Q</td>\n",
       "      <td>1.700955</td>\n",
       "      <td>0.417807</td>\n",
       "    </tr>\n",
       "    <tr>\n",
       "      <th>5</th>\n",
       "      <td>b</td>\n",
       "      <td>C</td>\n",
       "      <td>Q</td>\n",
       "      <td>0.116769</td>\n",
       "      <td>-2.569715</td>\n",
       "    </tr>\n",
       "    <tr>\n",
       "      <th>6</th>\n",
       "      <td>c</td>\n",
       "      <td>A</td>\n",
       "      <td>P</td>\n",
       "      <td>-0.380295</td>\n",
       "      <td>0.075483</td>\n",
       "    </tr>\n",
       "    <tr>\n",
       "      <th>7</th>\n",
       "      <td>d</td>\n",
       "      <td>B</td>\n",
       "      <td>P</td>\n",
       "      <td>1.840385</td>\n",
       "      <td>-1.232491</td>\n",
       "    </tr>\n",
       "    <tr>\n",
       "      <th>8</th>\n",
       "      <td>a</td>\n",
       "      <td>C</td>\n",
       "      <td>P</td>\n",
       "      <td>-0.842741</td>\n",
       "      <td>-0.074662</td>\n",
       "    </tr>\n",
       "    <tr>\n",
       "      <th>9</th>\n",
       "      <td>b</td>\n",
       "      <td>A</td>\n",
       "      <td>Q</td>\n",
       "      <td>0.182793</td>\n",
       "      <td>-0.808825</td>\n",
       "    </tr>\n",
       "    <tr>\n",
       "      <th>10</th>\n",
       "      <td>c</td>\n",
       "      <td>B</td>\n",
       "      <td>Q</td>\n",
       "      <td>0.058937</td>\n",
       "      <td>1.784091</td>\n",
       "    </tr>\n",
       "    <tr>\n",
       "      <th>11</th>\n",
       "      <td>d</td>\n",
       "      <td>C</td>\n",
       "      <td>Q</td>\n",
       "      <td>0.845182</td>\n",
       "      <td>0.290047</td>\n",
       "    </tr>\n",
       "  </tbody>\n",
       "</table>\n",
       "</div>"
      ],
      "text/plain": [
       "    A  B  C         D         E\n",
       "0   a  A  P -0.965086 -0.350473\n",
       "1   b  B  P -0.269785  0.666216\n",
       "2   c  C  P  0.000496 -1.265721\n",
       "3   d  A  Q -2.133162  0.476441\n",
       "4   a  B  Q  1.700955  0.417807\n",
       "5   b  C  Q  0.116769 -2.569715\n",
       "6   c  A  P -0.380295  0.075483\n",
       "7   d  B  P  1.840385 -1.232491\n",
       "8   a  C  P -0.842741 -0.074662\n",
       "9   b  A  Q  0.182793 -0.808825\n",
       "10  c  B  Q  0.058937  1.784091\n",
       "11  d  C  Q  0.845182  0.290047"
      ]
     },
     "execution_count": 59,
     "metadata": {},
     "output_type": "execute_result"
    }
   ],
   "source": [
    "df= pd.DataFrame({\n",
    "    'A':['a','b','c','d']*3,\n",
    "    'B':['A','B','C']*4,\n",
    "    'C':['P','P','P','Q','Q','Q']*2,\n",
    "    'D':np.random.randn(12),\n",
    "    'E':np.random.randn(12)\n",
    "}\n",
    ")\n",
    "df"
   ]
  },
  {
   "cell_type": "code",
   "execution_count": 60,
   "id": "688a2642",
   "metadata": {},
   "outputs": [
    {
     "data": {
      "text/html": [
       "<div>\n",
       "<style scoped>\n",
       "    .dataframe tbody tr th:only-of-type {\n",
       "        vertical-align: middle;\n",
       "    }\n",
       "\n",
       "    .dataframe tbody tr th {\n",
       "        vertical-align: top;\n",
       "    }\n",
       "\n",
       "    .dataframe thead th {\n",
       "        text-align: right;\n",
       "    }\n",
       "</style>\n",
       "<table border=\"1\" class=\"dataframe\">\n",
       "  <thead>\n",
       "    <tr style=\"text-align: right;\">\n",
       "      <th></th>\n",
       "      <th>C</th>\n",
       "      <th>P</th>\n",
       "      <th>Q</th>\n",
       "    </tr>\n",
       "    <tr>\n",
       "      <th>A</th>\n",
       "      <th>B</th>\n",
       "      <th></th>\n",
       "      <th></th>\n",
       "    </tr>\n",
       "  </thead>\n",
       "  <tbody>\n",
       "    <tr>\n",
       "      <th rowspan=\"3\" valign=\"top\">a</th>\n",
       "      <th>A</th>\n",
       "      <td>-0.965086</td>\n",
       "      <td>NaN</td>\n",
       "    </tr>\n",
       "    <tr>\n",
       "      <th>B</th>\n",
       "      <td>NaN</td>\n",
       "      <td>1.700955</td>\n",
       "    </tr>\n",
       "    <tr>\n",
       "      <th>C</th>\n",
       "      <td>-0.842741</td>\n",
       "      <td>NaN</td>\n",
       "    </tr>\n",
       "    <tr>\n",
       "      <th rowspan=\"3\" valign=\"top\">b</th>\n",
       "      <th>A</th>\n",
       "      <td>NaN</td>\n",
       "      <td>0.182793</td>\n",
       "    </tr>\n",
       "    <tr>\n",
       "      <th>B</th>\n",
       "      <td>-0.269785</td>\n",
       "      <td>NaN</td>\n",
       "    </tr>\n",
       "    <tr>\n",
       "      <th>C</th>\n",
       "      <td>NaN</td>\n",
       "      <td>0.116769</td>\n",
       "    </tr>\n",
       "    <tr>\n",
       "      <th rowspan=\"3\" valign=\"top\">c</th>\n",
       "      <th>A</th>\n",
       "      <td>-0.380295</td>\n",
       "      <td>NaN</td>\n",
       "    </tr>\n",
       "    <tr>\n",
       "      <th>B</th>\n",
       "      <td>NaN</td>\n",
       "      <td>0.058937</td>\n",
       "    </tr>\n",
       "    <tr>\n",
       "      <th>C</th>\n",
       "      <td>0.000496</td>\n",
       "      <td>NaN</td>\n",
       "    </tr>\n",
       "    <tr>\n",
       "      <th rowspan=\"3\" valign=\"top\">d</th>\n",
       "      <th>A</th>\n",
       "      <td>NaN</td>\n",
       "      <td>-2.133162</td>\n",
       "    </tr>\n",
       "    <tr>\n",
       "      <th>B</th>\n",
       "      <td>1.840385</td>\n",
       "      <td>NaN</td>\n",
       "    </tr>\n",
       "    <tr>\n",
       "      <th>C</th>\n",
       "      <td>NaN</td>\n",
       "      <td>0.845182</td>\n",
       "    </tr>\n",
       "  </tbody>\n",
       "</table>\n",
       "</div>"
      ],
      "text/plain": [
       "C           P         Q\n",
       "A B                    \n",
       "a A -0.965086       NaN\n",
       "  B       NaN  1.700955\n",
       "  C -0.842741       NaN\n",
       "b A       NaN  0.182793\n",
       "  B -0.269785       NaN\n",
       "  C       NaN  0.116769\n",
       "c A -0.380295       NaN\n",
       "  B       NaN  0.058937\n",
       "  C  0.000496       NaN\n",
       "d A       NaN -2.133162\n",
       "  B  1.840385       NaN\n",
       "  C       NaN  0.845182"
      ]
     },
     "execution_count": 60,
     "metadata": {},
     "output_type": "execute_result"
    }
   ],
   "source": [
    "pd.pivot_table(df, values='D', index=['A','B'], columns=['C'])"
   ]
  },
  {
   "cell_type": "code",
   "execution_count": 68,
   "id": "6cb2a3ff",
   "metadata": {},
   "outputs": [],
   "source": [
    "dates=pd.date_range('3/3/2020',periods=100,freq='S')"
   ]
  },
  {
   "cell_type": "code",
   "execution_count": 70,
   "id": "b9eec1eb",
   "metadata": {},
   "outputs": [],
   "source": [
    "ts = pd.Series(np.random.randint(0,500,len(dates)),dates)"
   ]
  },
  {
   "cell_type": "code",
   "execution_count": 71,
   "id": "246fa556",
   "metadata": {},
   "outputs": [
    {
     "data": {
      "text/plain": [
       "2020-03-03    23478\n",
       "Freq: 5T, dtype: int32"
      ]
     },
     "execution_count": 71,
     "metadata": {},
     "output_type": "execute_result"
    }
   ],
   "source": [
    "ts.resample('5min').sum()"
   ]
  },
  {
   "cell_type": "code",
   "execution_count": 72,
   "id": "0b31fd8d",
   "metadata": {},
   "outputs": [],
   "source": [
    "dates=pd.date_range('3/3/2020 00:00',periods=5,freq='S')"
   ]
  },
  {
   "cell_type": "code",
   "execution_count": 73,
   "id": "8ccc7d38",
   "metadata": {},
   "outputs": [],
   "source": [
    "ts = pd.Series(np.random.randn(len(dates)),dates)"
   ]
  },
  {
   "cell_type": "code",
   "execution_count": 74,
   "id": "7c500890",
   "metadata": {},
   "outputs": [
    {
     "data": {
      "text/plain": [
       "2020-03-03 00:00:00+00:00    1.142571\n",
       "2020-03-03 00:00:01+00:00   -0.867023\n",
       "2020-03-03 00:00:02+00:00    2.789585\n",
       "2020-03-03 00:00:03+00:00    1.322847\n",
       "2020-03-03 00:00:04+00:00   -0.610610\n",
       "Freq: S, dtype: float64"
      ]
     },
     "execution_count": 74,
     "metadata": {},
     "output_type": "execute_result"
    }
   ],
   "source": [
    "ts_utc = ts.tz_localize('UTC')\n",
    "ts_utc"
   ]
  },
  {
   "cell_type": "code",
   "execution_count": 75,
   "id": "2a75f7ca",
   "metadata": {},
   "outputs": [
    {
     "data": {
      "text/plain": [
       "2020-03-02 19:00:00-05:00    1.142571\n",
       "2020-03-02 19:00:01-05:00   -0.867023\n",
       "2020-03-02 19:00:02-05:00    2.789585\n",
       "2020-03-02 19:00:03-05:00    1.322847\n",
       "2020-03-02 19:00:04-05:00   -0.610610\n",
       "Freq: S, dtype: float64"
      ]
     },
     "execution_count": 75,
     "metadata": {},
     "output_type": "execute_result"
    }
   ],
   "source": [
    "ts_utc.tz_convert('US/Eastern')"
   ]
  },
  {
   "cell_type": "code",
   "execution_count": 76,
   "id": "2a7d47a1",
   "metadata": {},
   "outputs": [],
   "source": [
    "dates=pd.date_range('3/3/2020',periods=5,freq='M')\n",
    "ts = pd.Series(np.random.randn(len(dates)),dates)"
   ]
  },
  {
   "cell_type": "code",
   "execution_count": 77,
   "id": "7e26e756",
   "metadata": {},
   "outputs": [
    {
     "data": {
      "text/plain": [
       "2020-03   -0.793107\n",
       "2020-04   -0.894123\n",
       "2020-05   -0.755836\n",
       "2020-06    0.430552\n",
       "2020-07   -1.418373\n",
       "Freq: M, dtype: float64"
      ]
     },
     "execution_count": 77,
     "metadata": {},
     "output_type": "execute_result"
    }
   ],
   "source": [
    "ps=ts.to_period()  #period stamp\n",
    "ps"
   ]
  },
  {
   "cell_type": "code",
   "execution_count": 78,
   "id": "bbe38977",
   "metadata": {},
   "outputs": [
    {
     "data": {
      "text/plain": [
       "2020-03-01   -0.793107\n",
       "2020-04-01   -0.894123\n",
       "2020-05-01   -0.755836\n",
       "2020-06-01    0.430552\n",
       "2020-07-01   -1.418373\n",
       "Freq: MS, dtype: float64"
      ]
     },
     "execution_count": 78,
     "metadata": {},
     "output_type": "execute_result"
    }
   ],
   "source": [
    "ps.to_timestamp()"
   ]
  },
  {
   "cell_type": "code",
   "execution_count": 79,
   "id": "1355fb0c",
   "metadata": {},
   "outputs": [
    {
     "data": {
      "text/html": [
       "<div>\n",
       "<style scoped>\n",
       "    .dataframe tbody tr th:only-of-type {\n",
       "        vertical-align: middle;\n",
       "    }\n",
       "\n",
       "    .dataframe tbody tr th {\n",
       "        vertical-align: top;\n",
       "    }\n",
       "\n",
       "    .dataframe thead th {\n",
       "        text-align: right;\n",
       "    }\n",
       "</style>\n",
       "<table border=\"1\" class=\"dataframe\">\n",
       "  <thead>\n",
       "    <tr style=\"text-align: right;\">\n",
       "      <th></th>\n",
       "      <th>id</th>\n",
       "      <th>grade</th>\n",
       "    </tr>\n",
       "  </thead>\n",
       "  <tbody>\n",
       "    <tr>\n",
       "      <th>0</th>\n",
       "      <td>1</td>\n",
       "      <td>a</td>\n",
       "    </tr>\n",
       "    <tr>\n",
       "      <th>1</th>\n",
       "      <td>2</td>\n",
       "      <td>b</td>\n",
       "    </tr>\n",
       "    <tr>\n",
       "      <th>2</th>\n",
       "      <td>3</td>\n",
       "      <td>c</td>\n",
       "    </tr>\n",
       "    <tr>\n",
       "      <th>3</th>\n",
       "      <td>4</td>\n",
       "      <td>d</td>\n",
       "    </tr>\n",
       "    <tr>\n",
       "      <th>4</th>\n",
       "      <td>5</td>\n",
       "      <td>e</td>\n",
       "    </tr>\n",
       "  </tbody>\n",
       "</table>\n",
       "</div>"
      ],
      "text/plain": [
       "   id grade\n",
       "0   1     a\n",
       "1   2     b\n",
       "2   3     c\n",
       "3   4     d\n",
       "4   5     e"
      ]
     },
     "execution_count": 79,
     "metadata": {},
     "output_type": "execute_result"
    }
   ],
   "source": [
    "df =pd.DataFrame({\n",
    "    'id':[1,2,3,4,5],\n",
    "    'grade':['a','b','c','d','e']\n",
    "})\n",
    "df"
   ]
  },
  {
   "cell_type": "code",
   "execution_count": 81,
   "id": "e73d387c",
   "metadata": {},
   "outputs": [],
   "source": [
    "df['Grade']=df['grade'].astype('category')"
   ]
  },
  {
   "cell_type": "code",
   "execution_count": 82,
   "id": "f7c7afba",
   "metadata": {},
   "outputs": [
    {
     "data": {
      "text/plain": [
       "0    a\n",
       "1    b\n",
       "2    c\n",
       "3    d\n",
       "4    e\n",
       "Name: Grade, dtype: category\n",
       "Categories (5, object): ['a', 'b', 'c', 'd', 'e']"
      ]
     },
     "execution_count": 82,
     "metadata": {},
     "output_type": "execute_result"
    }
   ],
   "source": [
    "df['Grade']"
   ]
  },
  {
   "cell_type": "code",
   "execution_count": 84,
   "id": "ad0074a3",
   "metadata": {},
   "outputs": [
    {
     "data": {
      "text/plain": [
       "0    best\n",
       "1    good\n",
       "2     avg\n",
       "3      ok\n",
       "4     bad\n",
       "Name: Grade, dtype: category\n",
       "Categories (5, object): ['best', 'good', 'avg', 'ok', 'bad']"
      ]
     },
     "execution_count": 84,
     "metadata": {},
     "output_type": "execute_result"
    }
   ],
   "source": [
    "df['Grade'].cat.categories=['best','good','avg','ok','bad']\n",
    "df['Grade']"
   ]
  },
  {
   "cell_type": "code",
   "execution_count": 85,
   "id": "a9e08a77",
   "metadata": {},
   "outputs": [],
   "source": [
    "import matplotlib.pyplot as plt"
   ]
  },
  {
   "cell_type": "code",
   "execution_count": 86,
   "id": "9070c2ad",
   "metadata": {},
   "outputs": [],
   "source": [
    "plt.close('all')"
   ]
  },
  {
   "cell_type": "code",
   "execution_count": 87,
   "id": "9a75bf6f",
   "metadata": {},
   "outputs": [
    {
     "data": {
      "text/plain": [
       "<AxesSubplot:>"
      ]
     },
     "execution_count": 87,
     "metadata": {},
     "output_type": "execute_result"
    },
    {
     "data": {
      "image/png": "[encoded data removed]",
      "text/plain": [
       "<Figure size 432x288 with 1 Axes>"
      ]
     },
     "metadata": {
      "needs_background": "light"
     },
     "output_type": "display_data"
    }
   ],
   "source": [
    "t =pd.Series(np.random.randn(500), index=pd.date_range('1/3/2020',periods=500))\n",
    "t=t.cumsum()\n",
    "t.plot()"
   ]
  },
  {
   "cell_type": "code",
   "execution_count": null,
   "id": "747cd8e0",
   "metadata": {},
   "outputs": [],
   "source": []
  }
 ],
 "metadata": {
  "kernelspec": {
   "display_name": "Python 3 (ipykernel)",
   "language": "python",
   "name": "python3"
  },
  "language_info": {
   "codemirror_mode": {
    "name": "ipython",
    "version": 3
   },
   "file_extension": ".py",
   "mimetype": "text/x-python",
   "name": "python",
   "nbconvert_exporter": "python",
   "pygments_lexer": "ipython3",
   "version": "3.9.7"
  }
 },
 "nbformat": 4,
 "nbformat_minor": 5
}
